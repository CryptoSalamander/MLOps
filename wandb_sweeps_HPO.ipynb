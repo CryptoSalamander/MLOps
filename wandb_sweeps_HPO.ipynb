{
 "cells": [
  {
   "cell_type": "code",
   "execution_count": 9,
   "id": "cae4cd3c",
   "metadata": {},
   "outputs": [],
   "source": [
    "import wandb\n",
    "wandb.login()\n",
    "WANDB_NOTEBOOK_NAME=\"wandb_sweeps_HPO.ipynb\""
   ]
  },
  {
   "cell_type": "code",
   "execution_count": 15,
   "id": "326d2e01",
   "metadata": {},
   "outputs": [],
   "source": [
    "# %load train_lib.py\n",
    "\n",
    "def train():\n",
    "    import numpy as np\n",
    "    import tensorflow as tf\n",
    "    import wandb\n",
    "    config_defaults = {\n",
    "        'layer1_size': 128,\n",
    "        'dropout_rate': 0.2,\n",
    "        'layer1_activation': 'relu',\n",
    "        'optimizer': 'adam',\n",
    "        'learning_rate': 0.01\n",
    "    }\n",
    "    wandb.init(project='sweep-practice',config=config_defaults, magic=True)\n",
    "    config = wandb.config\n",
    "    \n",
    "    fashion_mnist = tf.keras.datasets.fashion_mnist\n",
    "    (train_images, train_labels), (test_images, test_labels) = fashion_mnist.load_data()\n",
    "    class_names = ['T-shirt/top', 'Trouser', 'Pullover', 'Dress', 'Coat',\n",
    "                   'Sandal', 'Shirt', 'Sneaker', 'Bag', 'Ankle boot']\n",
    "\n",
    "    train_images.shape\n",
    "    train_images = train_images / 255.0\n",
    "    test_images = test_images / 255.0\n",
    "\n",
    "    model = tf.keras.Sequential([\n",
    "        tf.keras.layers.Flatten(input_shape=(28, 28)),\n",
    "        tf.keras.layers.Dense(config.layer1_size, activation=config.layer1_activation),\n",
    "        tf.keras.layers.Dropout(config.dropout_rate),\n",
    "        tf.keras.layers.Dense(10, activation=tf.nn.softmax)\n",
    "    ])\n",
    "\n",
    "    if config.optimizer == 'rmsprop':\n",
    "        opt = tf.keras.optimizers.RMSprop(learning_rate=config.learning_rate)\n",
    "    else:\n",
    "        opt = tf.keras.optimizers.Adam(learning_rate=config.learning_rate)\n",
    "        \n",
    "    model.compile(optimizer='adam',\n",
    "                  loss='sparse_categorical_crossentropy',\n",
    "                  metrics=['accuracy'])\n",
    "    \n",
    "    model.fit(train_images, train_labels, epochs=5,\n",
    "                  validation_data=(test_images, test_labels))"
   ]
  },
  {
   "cell_type": "code",
   "execution_count": 16,
   "id": "8f09352c",
   "metadata": {},
   "outputs": [],
   "source": [
    "sweep_config = {\n",
    "    'method': 'grid',\n",
    "    'parameters': {\n",
    "        'layer1_size': {\n",
    "            'values': [64, 96, 128]\n",
    "        },\n",
    "        'layer1_activation': {\n",
    "            'values': ['relu','sigmoid']\n",
    "        },\n",
    "        'dropout_rate': {\n",
    "            'values': [0.1,0.2,0.3,0.4,0.5]\n",
    "        },\n",
    "        'optimizer': {\n",
    "            'values': ['adam','rmsprop']\n",
    "        },\n",
    "        'learning_rate': {\n",
    "            'values': [0.1,0.01, 0.001]\n",
    "        }\n",
    "    }\n",
    "}"
   ]
  },
  {
   "cell_type": "code",
   "execution_count": 17,
   "id": "857c0f01",
   "metadata": {},
   "outputs": [
    {
     "name": "stdout",
     "output_type": "stream",
     "text": [
      "Create sweep with ID: 0iz1czq1\n",
      "Sweep URL: https://wandb.ai/hyunsooha/sweep-practice/sweeps/0iz1czq1\n"
     ]
    }
   ],
   "source": [
    "import wandb\n",
    "sweep_id = wandb.sweep(sweep_config, project='sweep-practice')"
   ]
  },
  {
   "cell_type": "code",
   "execution_count": 18,
   "id": "2f323c13",
   "metadata": {},
   "outputs": [
    {
     "name": "stderr",
     "output_type": "stream",
     "text": [
      "\u001b[34m\u001b[1mwandb\u001b[0m: Agent Starting Run: bgfec4m6 with config:\n",
      "\u001b[34m\u001b[1mwandb\u001b[0m: \tdropout_rate: 0.1\n",
      "\u001b[34m\u001b[1mwandb\u001b[0m: \tlayer1_activation: relu\n",
      "\u001b[34m\u001b[1mwandb\u001b[0m: \tlayer1_size: 64\n",
      "\u001b[34m\u001b[1mwandb\u001b[0m: \tlearning_rate: 0.1\n",
      "\u001b[34m\u001b[1mwandb\u001b[0m: \toptimizer: adam\n",
      "Failed to detect the name of this notebook, you can set it manually with the WANDB_NOTEBOOK_NAME environment variable to enable code saving.\n",
      "\u001b[34m\u001b[1mwandb\u001b[0m: \u001b[33mWARNING\u001b[0m Ignored wandb.init() arg project when running a sweep\n"
     ]
    },
    {
     "data": {
      "text/html": [
       "\n",
       "                    Syncing run <strong><a href=\"https://wandb.ai/hyunsooha/sweep-practice/runs/bgfec4m6\" target=\"_blank\">fallen-sweep-1</a></strong> to <a href=\"https://wandb.ai/hyunsooha/sweep-practice\" target=\"_blank\">Weights & Biases</a> (<a href=\"https://docs.wandb.com/integrations/jupyter.html\" target=\"_blank\">docs</a>).<br/>\n",
       "Sweep page: <a href=\"https://wandb.ai/hyunsooha/sweep-practice/sweeps/0iz1czq1\" target=\"_blank\">https://wandb.ai/hyunsooha/sweep-practice/sweeps/0iz1czq1</a><br/>\n",
       "\n",
       "                "
      ],
      "text/plain": [
       "<IPython.core.display.HTML object>"
      ]
     },
     "metadata": {},
     "output_type": "display_data"
    },
    {
     "name": "stdout",
     "output_type": "stream",
     "text": [
      "Epoch 1/5\n",
      "   2/1875 [..............................] - ETA: 8:52 - loss: 2.4326 - accuracy: 0.1250WARNING:tensorflow:Callback method `on_train_batch_begin` is slow compared to the batch time (batch time: 0.0014s vs `on_train_batch_begin` time: 0.0458s). Check your callbacks.\n",
      "WARNING:tensorflow:Callback method `on_train_batch_end` is slow compared to the batch time (batch time: 0.0014s vs `on_train_batch_end` time: 0.0081s). Check your callbacks.\n",
      "1875/1875 [==============================] - 3s 2ms/step - loss: 0.5362 - accuracy: 0.8117 - val_loss: 0.4674 - val_accuracy: 0.8297\n",
      "Epoch 2/5\n",
      "1875/1875 [==============================] - 2s 1ms/step - loss: 0.4025 - accuracy: 0.8552 - val_loss: 0.4045 - val_accuracy: 0.8501\n",
      "Epoch 3/5\n",
      "1875/1875 [==============================] - 2s 1ms/step - loss: 0.3687 - accuracy: 0.8662 - val_loss: 0.3745 - val_accuracy: 0.8665\n",
      "Epoch 4/5\n",
      "1875/1875 [==============================] - 2s 1ms/step - loss: 0.3485 - accuracy: 0.8733 - val_loss: 0.3963 - val_accuracy: 0.8538\n",
      "Epoch 5/5\n",
      "1875/1875 [==============================] - 2s 1ms/step - loss: 0.3308 - accuracy: 0.8795 - val_loss: 0.3847 - val_accuracy: 0.8586\n"
     ]
    },
    {
     "data": {
      "text/html": [
       "<br/>Waiting for W&B process to finish, PID 10473... <strong style=\"color:green\">(success).</strong>"
      ],
      "text/plain": [
       "<IPython.core.display.HTML object>"
      ]
     },
     "metadata": {},
     "output_type": "display_data"
    },
    {
     "data": {
      "text/html": [
       "<style>\n",
       "    table.wandb td:nth-child(1) { padding: 0 10px; text-align: right }\n",
       "    .wandb-row { display: flex; flex-direction: row; flex-wrap: wrap; width: 100% }\n",
       "    .wandb-col { display: flex; flex-direction: column; flex-basis: 100%; flex: 1; padding: 10px; }\n",
       "    </style>\n",
       "<div class=\"wandb-row\"><div class=\"wandb-col\">\n",
       "<h3>Run history:</h3><br/><table class=\"wandb\"><tr><td>accuracy</td><td>▁▅▇▇█</td></tr><tr><td>epoch</td><td>▁▃▅▆█</td></tr><tr><td>loss</td><td>█▃▂▂▁</td></tr><tr><td>val_accuracy</td><td>▁▅█▆▆</td></tr><tr><td>val_loss</td><td>█▃▁▃▂</td></tr></table><br/></div><div class=\"wandb-col\">\n",
       "<h3>Run summary:</h3><br/><table class=\"wandb\"><tr><td>accuracy</td><td>0.87952</td></tr><tr><td>best_epoch</td><td>2</td></tr><tr><td>best_val_loss</td><td>0.37452</td></tr><tr><td>epoch</td><td>4</td></tr><tr><td>loss</td><td>0.33077</td></tr><tr><td>val_accuracy</td><td>0.8586</td></tr><tr><td>val_loss</td><td>0.38471</td></tr></table>\n",
       "</div></div>\n",
       "Synced 5 W&B file(s), 181 media file(s), 0 artifact file(s) and 11 other file(s)\n",
       "<br/>Synced <strong style=\"color:#cdcd00\">fallen-sweep-1</strong>: <a href=\"https://wandb.ai/hyunsooha/sweep-practice/runs/bgfec4m6\" target=\"_blank\">https://wandb.ai/hyunsooha/sweep-practice/runs/bgfec4m6</a><br/>\n",
       "Find logs at: <code>./wandb/run-20211002_174611-bgfec4m6/logs</code><br/>\n"
      ],
      "text/plain": [
       "<IPython.core.display.HTML object>"
      ]
     },
     "metadata": {},
     "output_type": "display_data"
    },
    {
     "name": "stderr",
     "output_type": "stream",
     "text": [
      "\u001b[34m\u001b[1mwandb\u001b[0m: Agent Starting Run: k83gjhqp with config:\n",
      "\u001b[34m\u001b[1mwandb\u001b[0m: \tdropout_rate: 0.1\n",
      "\u001b[34m\u001b[1mwandb\u001b[0m: \tlayer1_activation: relu\n",
      "\u001b[34m\u001b[1mwandb\u001b[0m: \tlayer1_size: 64\n",
      "\u001b[34m\u001b[1mwandb\u001b[0m: \tlearning_rate: 0.1\n",
      "\u001b[34m\u001b[1mwandb\u001b[0m: \toptimizer: rmsprop\n",
      "Failed to detect the name of this notebook, you can set it manually with the WANDB_NOTEBOOK_NAME environment variable to enable code saving.\n",
      "\u001b[34m\u001b[1mwandb\u001b[0m: \u001b[33mWARNING\u001b[0m Ignored wandb.init() arg project when running a sweep\n"
     ]
    },
    {
     "data": {
      "text/html": [
       "\n",
       "                    Syncing run <strong><a href=\"https://wandb.ai/hyunsooha/sweep-practice/runs/k83gjhqp\" target=\"_blank\">scarlet-sweep-2</a></strong> to <a href=\"https://wandb.ai/hyunsooha/sweep-practice\" target=\"_blank\">Weights & Biases</a> (<a href=\"https://docs.wandb.com/integrations/jupyter.html\" target=\"_blank\">docs</a>).<br/>\n",
       "Sweep page: <a href=\"https://wandb.ai/hyunsooha/sweep-practice/sweeps/0iz1czq1\" target=\"_blank\">https://wandb.ai/hyunsooha/sweep-practice/sweeps/0iz1czq1</a><br/>\n",
       "\n",
       "                "
      ],
      "text/plain": [
       "<IPython.core.display.HTML object>"
      ]
     },
     "metadata": {},
     "output_type": "display_data"
    },
    {
     "name": "stdout",
     "output_type": "stream",
     "text": [
      "Epoch 1/5\n",
      "   2/1875 [..............................] - ETA: 8:58 - loss: 2.6400 - accuracy: 0.1250WARNING:tensorflow:Callback method `on_train_batch_begin` is slow compared to the batch time (batch time: 0.0014s vs `on_train_batch_begin` time: 0.0464s). Check your callbacks.\n",
      "WARNING:tensorflow:Callback method `on_train_batch_end` is slow compared to the batch time (batch time: 0.0014s vs `on_train_batch_end` time: 0.0079s). Check your callbacks.\n",
      "1875/1875 [==============================] - 3s 1ms/step - loss: 0.5570 - accuracy: 0.8052 - val_loss: 0.4280 - val_accuracy: 0.8445\n",
      "Epoch 2/5\n",
      "1875/1875 [==============================] - 2s 1ms/step - loss: 0.4093 - accuracy: 0.8534 - val_loss: 0.3989 - val_accuracy: 0.8576\n",
      "Epoch 3/5\n",
      "1875/1875 [==============================] - 2s 1ms/step - loss: 0.3700 - accuracy: 0.8650 - val_loss: 0.3965 - val_accuracy: 0.8580\n",
      "Epoch 4/5\n",
      "1875/1875 [==============================] - 2s 1ms/step - loss: 0.3482 - accuracy: 0.8734 - val_loss: 0.3791 - val_accuracy: 0.8627\n",
      "Epoch 5/5\n",
      "1875/1875 [==============================] - 2s 1ms/step - loss: 0.3334 - accuracy: 0.8763 - val_loss: 0.3715 - val_accuracy: 0.8633\n"
     ]
    },
    {
     "data": {
      "text/html": [
       "<br/>Waiting for W&B process to finish, PID 11157... <strong style=\"color:green\">(success).</strong>"
      ],
      "text/plain": [
       "<IPython.core.display.HTML object>"
      ]
     },
     "metadata": {},
     "output_type": "display_data"
    },
    {
     "data": {
      "text/html": [
       "<style>\n",
       "    table.wandb td:nth-child(1) { padding: 0 10px; text-align: right }\n",
       "    .wandb-row { display: flex; flex-direction: row; flex-wrap: wrap; width: 100% }\n",
       "    .wandb-col { display: flex; flex-direction: column; flex-basis: 100%; flex: 1; padding: 10px; }\n",
       "    </style>\n",
       "<div class=\"wandb-row\"><div class=\"wandb-col\">\n",
       "<h3>Run history:</h3><br/><table class=\"wandb\"><tr><td>accuracy</td><td>▁▆▇██</td></tr><tr><td>epoch</td><td>▁▃▅▆█</td></tr><tr><td>loss</td><td>█▃▂▁▁</td></tr><tr><td>val_accuracy</td><td>▁▆▆██</td></tr><tr><td>val_loss</td><td>█▄▄▂▁</td></tr></table><br/></div><div class=\"wandb-col\">\n",
       "<h3>Run summary:</h3><br/><table class=\"wandb\"><tr><td>accuracy</td><td>0.87628</td></tr><tr><td>best_epoch</td><td>4</td></tr><tr><td>best_val_loss</td><td>0.37152</td></tr><tr><td>epoch</td><td>4</td></tr><tr><td>loss</td><td>0.33342</td></tr><tr><td>val_accuracy</td><td>0.8633</td></tr><tr><td>val_loss</td><td>0.37152</td></tr></table>\n",
       "</div></div>\n",
       "Synced 5 W&B file(s), 181 media file(s), 0 artifact file(s) and 11 other file(s)\n",
       "<br/>Synced <strong style=\"color:#cdcd00\">scarlet-sweep-2</strong>: <a href=\"https://wandb.ai/hyunsooha/sweep-practice/runs/k83gjhqp\" target=\"_blank\">https://wandb.ai/hyunsooha/sweep-practice/runs/k83gjhqp</a><br/>\n",
       "Find logs at: <code>./wandb/run-20211002_174634-k83gjhqp/logs</code><br/>\n"
      ],
      "text/plain": [
       "<IPython.core.display.HTML object>"
      ]
     },
     "metadata": {},
     "output_type": "display_data"
    },
    {
     "name": "stderr",
     "output_type": "stream",
     "text": [
      "\u001b[34m\u001b[1mwandb\u001b[0m: Agent Starting Run: nw7u04fo with config:\n",
      "\u001b[34m\u001b[1mwandb\u001b[0m: \tdropout_rate: 0.1\n",
      "\u001b[34m\u001b[1mwandb\u001b[0m: \tlayer1_activation: relu\n",
      "\u001b[34m\u001b[1mwandb\u001b[0m: \tlayer1_size: 64\n",
      "\u001b[34m\u001b[1mwandb\u001b[0m: \tlearning_rate: 0.01\n",
      "\u001b[34m\u001b[1mwandb\u001b[0m: \toptimizer: adam\n",
      "Failed to detect the name of this notebook, you can set it manually with the WANDB_NOTEBOOK_NAME environment variable to enable code saving.\n",
      "\u001b[34m\u001b[1mwandb\u001b[0m: \u001b[33mWARNING\u001b[0m Ignored wandb.init() arg project when running a sweep\n"
     ]
    },
    {
     "data": {
      "text/html": [
       "\n",
       "                    Syncing run <strong><a href=\"https://wandb.ai/hyunsooha/sweep-practice/runs/nw7u04fo\" target=\"_blank\">easy-sweep-3</a></strong> to <a href=\"https://wandb.ai/hyunsooha/sweep-practice\" target=\"_blank\">Weights & Biases</a> (<a href=\"https://docs.wandb.com/integrations/jupyter.html\" target=\"_blank\">docs</a>).<br/>\n",
       "Sweep page: <a href=\"https://wandb.ai/hyunsooha/sweep-practice/sweeps/0iz1czq1\" target=\"_blank\">https://wandb.ai/hyunsooha/sweep-practice/sweeps/0iz1czq1</a><br/>\n",
       "\n",
       "                "
      ],
      "text/plain": [
       "<IPython.core.display.HTML object>"
      ]
     },
     "metadata": {},
     "output_type": "display_data"
    },
    {
     "name": "stdout",
     "output_type": "stream",
     "text": [
      "Epoch 1/5\n",
      "   2/1875 [..............................] - ETA: 9:07 - loss: 2.3459 - accuracy: 0.1562WARNING:tensorflow:Callback method `on_train_batch_begin` is slow compared to the batch time (batch time: 0.0015s vs `on_train_batch_begin` time: 0.0463s). Check your callbacks.\n",
      "WARNING:tensorflow:Callback method `on_train_batch_end` is slow compared to the batch time (batch time: 0.0015s vs `on_train_batch_end` time: 0.0088s). Check your callbacks.\n",
      "1875/1875 [==============================] - 3s 2ms/step - loss: 0.5421 - accuracy: 0.8093 - val_loss: 0.4367 - val_accuracy: 0.8456\n",
      "Epoch 2/5\n",
      "1875/1875 [==============================] - 2s 1ms/step - loss: 0.4058 - accuracy: 0.8544 - val_loss: 0.3946 - val_accuracy: 0.8613\n",
      "Epoch 3/5\n",
      "1875/1875 [==============================] - 2s 1ms/step - loss: 0.3702 - accuracy: 0.8666 - val_loss: 0.3840 - val_accuracy: 0.8623\n",
      "Epoch 4/5\n",
      "1875/1875 [==============================] - 2s 1ms/step - loss: 0.3471 - accuracy: 0.8735 - val_loss: 0.4071 - val_accuracy: 0.8553\n",
      "Epoch 5/5\n",
      "1875/1875 [==============================] - 2s 1ms/step - loss: 0.3335 - accuracy: 0.8792 - val_loss: 0.3550 - val_accuracy: 0.8741\n"
     ]
    },
    {
     "data": {
      "text/html": [
       "<br/>Waiting for W&B process to finish, PID 11842... <strong style=\"color:green\">(success).</strong>"
      ],
      "text/plain": [
       "<IPython.core.display.HTML object>"
      ]
     },
     "metadata": {},
     "output_type": "display_data"
    },
    {
     "data": {
      "text/html": [
       "<style>\n",
       "    table.wandb td:nth-child(1) { padding: 0 10px; text-align: right }\n",
       "    .wandb-row { display: flex; flex-direction: row; flex-wrap: wrap; width: 100% }\n",
       "    .wandb-col { display: flex; flex-direction: column; flex-basis: 100%; flex: 1; padding: 10px; }\n",
       "    </style>\n",
       "<div class=\"wandb-row\"><div class=\"wandb-col\">\n",
       "<h3>Run history:</h3><br/><table class=\"wandb\"><tr><td>accuracy</td><td>▁▆▇▇█</td></tr><tr><td>epoch</td><td>▁▃▅▆█</td></tr><tr><td>loss</td><td>█▃▂▁▁</td></tr><tr><td>val_accuracy</td><td>▁▅▅▃█</td></tr><tr><td>val_loss</td><td>█▄▃▅▁</td></tr></table><br/></div><div class=\"wandb-col\">\n",
       "<h3>Run summary:</h3><br/><table class=\"wandb\"><tr><td>accuracy</td><td>0.87922</td></tr><tr><td>best_epoch</td><td>4</td></tr><tr><td>best_val_loss</td><td>0.35501</td></tr><tr><td>epoch</td><td>4</td></tr><tr><td>loss</td><td>0.33355</td></tr><tr><td>val_accuracy</td><td>0.8741</td></tr><tr><td>val_loss</td><td>0.35501</td></tr></table>\n",
       "</div></div>\n",
       "Synced 5 W&B file(s), 181 media file(s), 0 artifact file(s) and 11 other file(s)\n",
       "<br/>Synced <strong style=\"color:#cdcd00\">easy-sweep-3</strong>: <a href=\"https://wandb.ai/hyunsooha/sweep-practice/runs/nw7u04fo\" target=\"_blank\">https://wandb.ai/hyunsooha/sweep-practice/runs/nw7u04fo</a><br/>\n",
       "Find logs at: <code>./wandb/run-20211002_174657-nw7u04fo/logs</code><br/>\n"
      ],
      "text/plain": [
       "<IPython.core.display.HTML object>"
      ]
     },
     "metadata": {},
     "output_type": "display_data"
    },
    {
     "name": "stderr",
     "output_type": "stream",
     "text": [
      "\u001b[34m\u001b[1mwandb\u001b[0m: Agent Starting Run: nso15zpu with config:\n",
      "\u001b[34m\u001b[1mwandb\u001b[0m: \tdropout_rate: 0.1\n",
      "\u001b[34m\u001b[1mwandb\u001b[0m: \tlayer1_activation: relu\n",
      "\u001b[34m\u001b[1mwandb\u001b[0m: \tlayer1_size: 64\n",
      "\u001b[34m\u001b[1mwandb\u001b[0m: \tlearning_rate: 0.01\n",
      "\u001b[34m\u001b[1mwandb\u001b[0m: \toptimizer: rmsprop\n",
      "Failed to detect the name of this notebook, you can set it manually with the WANDB_NOTEBOOK_NAME environment variable to enable code saving.\n",
      "\u001b[34m\u001b[1mwandb\u001b[0m: \u001b[33mWARNING\u001b[0m Ignored wandb.init() arg project when running a sweep\n"
     ]
    },
    {
     "data": {
      "text/html": [
       "\n",
       "                    Syncing run <strong><a href=\"https://wandb.ai/hyunsooha/sweep-practice/runs/nso15zpu\" target=\"_blank\">snowy-sweep-4</a></strong> to <a href=\"https://wandb.ai/hyunsooha/sweep-practice\" target=\"_blank\">Weights & Biases</a> (<a href=\"https://docs.wandb.com/integrations/jupyter.html\" target=\"_blank\">docs</a>).<br/>\n",
       "Sweep page: <a href=\"https://wandb.ai/hyunsooha/sweep-practice/sweeps/0iz1czq1\" target=\"_blank\">https://wandb.ai/hyunsooha/sweep-practice/sweeps/0iz1czq1</a><br/>\n",
       "\n",
       "                "
      ],
      "text/plain": [
       "<IPython.core.display.HTML object>"
      ]
     },
     "metadata": {},
     "output_type": "display_data"
    },
    {
     "name": "stdout",
     "output_type": "stream",
     "text": [
      "Epoch 1/5\n",
      "   2/1875 [..............................] - ETA: 8:56 - loss: 2.2182 - accuracy: 0.1406WARNING:tensorflow:Callback method `on_train_batch_begin` is slow compared to the batch time (batch time: 0.0014s vs `on_train_batch_begin` time: 0.0461s). Check your callbacks.\n",
      "WARNING:tensorflow:Callback method `on_train_batch_end` is slow compared to the batch time (batch time: 0.0014s vs `on_train_batch_end` time: 0.0079s). Check your callbacks.\n",
      "1875/1875 [==============================] - 3s 2ms/step - loss: 0.5479 - accuracy: 0.8073 - val_loss: 0.4364 - val_accuracy: 0.8430\n",
      "Epoch 2/5\n",
      "1875/1875 [==============================] - 2s 1ms/step - loss: 0.4033 - accuracy: 0.8541 - val_loss: 0.3927 - val_accuracy: 0.8595\n",
      "Epoch 3/5\n",
      "1875/1875 [==============================] - 2s 1ms/step - loss: 0.3659 - accuracy: 0.8669 - val_loss: 0.3861 - val_accuracy: 0.8663\n",
      "Epoch 4/5\n",
      "1875/1875 [==============================] - 2s 1ms/step - loss: 0.3442 - accuracy: 0.8746 - val_loss: 0.3623 - val_accuracy: 0.8702\n",
      "Epoch 5/5\n",
      "1875/1875 [==============================] - 2s 1ms/step - loss: 0.3283 - accuracy: 0.8797 - val_loss: 0.3605 - val_accuracy: 0.8693\n"
     ]
    },
    {
     "data": {
      "text/html": [
       "<br/>Waiting for W&B process to finish, PID 12526... <strong style=\"color:green\">(success).</strong>"
      ],
      "text/plain": [
       "<IPython.core.display.HTML object>"
      ]
     },
     "metadata": {},
     "output_type": "display_data"
    },
    {
     "data": {
      "text/html": [
       "<style>\n",
       "    table.wandb td:nth-child(1) { padding: 0 10px; text-align: right }\n",
       "    .wandb-row { display: flex; flex-direction: row; flex-wrap: wrap; width: 100% }\n",
       "    .wandb-col { display: flex; flex-direction: column; flex-basis: 100%; flex: 1; padding: 10px; }\n",
       "    </style>\n",
       "<div class=\"wandb-row\"><div class=\"wandb-col\">\n",
       "<h3>Run history:</h3><br/><table class=\"wandb\"><tr><td>accuracy</td><td>▁▆▇██</td></tr><tr><td>epoch</td><td>▁▃▅▆█</td></tr><tr><td>loss</td><td>█▃▂▂▁</td></tr><tr><td>val_accuracy</td><td>▁▅▇██</td></tr><tr><td>val_loss</td><td>█▄▃▁▁</td></tr></table><br/></div><div class=\"wandb-col\">\n",
       "<h3>Run summary:</h3><br/><table class=\"wandb\"><tr><td>accuracy</td><td>0.87972</td></tr><tr><td>best_epoch</td><td>4</td></tr><tr><td>best_val_loss</td><td>0.36052</td></tr><tr><td>epoch</td><td>4</td></tr><tr><td>loss</td><td>0.32834</td></tr><tr><td>val_accuracy</td><td>0.8693</td></tr><tr><td>val_loss</td><td>0.36052</td></tr></table>\n",
       "</div></div>\n",
       "Synced 5 W&B file(s), 181 media file(s), 0 artifact file(s) and 11 other file(s)\n",
       "<br/>Synced <strong style=\"color:#cdcd00\">snowy-sweep-4</strong>: <a href=\"https://wandb.ai/hyunsooha/sweep-practice/runs/nso15zpu\" target=\"_blank\">https://wandb.ai/hyunsooha/sweep-practice/runs/nso15zpu</a><br/>\n",
       "Find logs at: <code>./wandb/run-20211002_174721-nso15zpu/logs</code><br/>\n"
      ],
      "text/plain": [
       "<IPython.core.display.HTML object>"
      ]
     },
     "metadata": {},
     "output_type": "display_data"
    },
    {
     "name": "stderr",
     "output_type": "stream",
     "text": [
      "\u001b[34m\u001b[1mwandb\u001b[0m: Agent Starting Run: tnwjk1dv with config:\n",
      "\u001b[34m\u001b[1mwandb\u001b[0m: \tdropout_rate: 0.1\n",
      "\u001b[34m\u001b[1mwandb\u001b[0m: \tlayer1_activation: relu\n",
      "\u001b[34m\u001b[1mwandb\u001b[0m: \tlayer1_size: 64\n",
      "\u001b[34m\u001b[1mwandb\u001b[0m: \tlearning_rate: 0.001\n",
      "\u001b[34m\u001b[1mwandb\u001b[0m: \toptimizer: adam\n",
      "Failed to detect the name of this notebook, you can set it manually with the WANDB_NOTEBOOK_NAME environment variable to enable code saving.\n",
      "\u001b[34m\u001b[1mwandb\u001b[0m: \u001b[33mWARNING\u001b[0m Ignored wandb.init() arg project when running a sweep\n"
     ]
    },
    {
     "data": {
      "text/html": [
       "\n",
       "                    Syncing run <strong><a href=\"https://wandb.ai/hyunsooha/sweep-practice/runs/tnwjk1dv\" target=\"_blank\">glad-sweep-5</a></strong> to <a href=\"https://wandb.ai/hyunsooha/sweep-practice\" target=\"_blank\">Weights & Biases</a> (<a href=\"https://docs.wandb.com/integrations/jupyter.html\" target=\"_blank\">docs</a>).<br/>\n",
       "Sweep page: <a href=\"https://wandb.ai/hyunsooha/sweep-practice/sweeps/0iz1czq1\" target=\"_blank\">https://wandb.ai/hyunsooha/sweep-practice/sweeps/0iz1czq1</a><br/>\n",
       "\n",
       "                "
      ],
      "text/plain": [
       "<IPython.core.display.HTML object>"
      ]
     },
     "metadata": {},
     "output_type": "display_data"
    },
    {
     "name": "stdout",
     "output_type": "stream",
     "text": [
      "Epoch 1/5\n",
      "   5/1875 [..............................] - ETA: 2:39 - loss: 2.2136 - accuracy: 0.1937WARNING:tensorflow:Callback method `on_train_batch_begin` is slow compared to the batch time (batch time: 0.0014s vs `on_train_batch_begin` time: 0.0469s). Check your callbacks.\n",
      "WARNING:tensorflow:Callback method `on_train_batch_end` is slow compared to the batch time (batch time: 0.0014s vs `on_train_batch_end` time: 0.0092s). Check your callbacks.\n",
      "1875/1875 [==============================] - 3s 2ms/step - loss: 0.5439 - accuracy: 0.8096 - val_loss: 0.4385 - val_accuracy: 0.8472\n",
      "Epoch 2/5\n",
      "1875/1875 [==============================] - 2s 1ms/step - loss: 0.4047 - accuracy: 0.8535 - val_loss: 0.3952 - val_accuracy: 0.8586\n",
      "Epoch 3/5\n",
      "1875/1875 [==============================] - 2s 1ms/step - loss: 0.3674 - accuracy: 0.8661 - val_loss: 0.3805 - val_accuracy: 0.8650\n",
      "Epoch 4/5\n",
      "1875/1875 [==============================] - 2s 1ms/step - loss: 0.3493 - accuracy: 0.8716 - val_loss: 0.3738 - val_accuracy: 0.8681\n",
      "Epoch 5/5\n",
      "1875/1875 [==============================] - 2s 1ms/step - loss: 0.3328 - accuracy: 0.8761 - val_loss: 0.3539 - val_accuracy: 0.8731\n"
     ]
    },
    {
     "data": {
      "text/html": [
       "<br/>Waiting for W&B process to finish, PID 13210... <strong style=\"color:green\">(success).</strong>"
      ],
      "text/plain": [
       "<IPython.core.display.HTML object>"
      ]
     },
     "metadata": {},
     "output_type": "display_data"
    },
    {
     "data": {
      "text/html": [
       "<style>\n",
       "    table.wandb td:nth-child(1) { padding: 0 10px; text-align: right }\n",
       "    .wandb-row { display: flex; flex-direction: row; flex-wrap: wrap; width: 100% }\n",
       "    .wandb-col { display: flex; flex-direction: column; flex-basis: 100%; flex: 1; padding: 10px; }\n",
       "    </style>\n",
       "<div class=\"wandb-row\"><div class=\"wandb-col\">\n",
       "<h3>Run history:</h3><br/><table class=\"wandb\"><tr><td>accuracy</td><td>▁▆▇██</td></tr><tr><td>epoch</td><td>▁▃▅▆█</td></tr><tr><td>loss</td><td>█▃▂▂▁</td></tr><tr><td>val_accuracy</td><td>▁▄▆▇█</td></tr><tr><td>val_loss</td><td>█▄▃▃▁</td></tr></table><br/></div><div class=\"wandb-col\">\n",
       "<h3>Run summary:</h3><br/><table class=\"wandb\"><tr><td>accuracy</td><td>0.87613</td></tr><tr><td>best_epoch</td><td>4</td></tr><tr><td>best_val_loss</td><td>0.35387</td></tr><tr><td>epoch</td><td>4</td></tr><tr><td>loss</td><td>0.33282</td></tr><tr><td>val_accuracy</td><td>0.8731</td></tr><tr><td>val_loss</td><td>0.35387</td></tr></table>\n",
       "</div></div>\n",
       "Synced 5 W&B file(s), 181 media file(s), 0 artifact file(s) and 11 other file(s)\n",
       "<br/>Synced <strong style=\"color:#cdcd00\">glad-sweep-5</strong>: <a href=\"https://wandb.ai/hyunsooha/sweep-practice/runs/tnwjk1dv\" target=\"_blank\">https://wandb.ai/hyunsooha/sweep-practice/runs/tnwjk1dv</a><br/>\n",
       "Find logs at: <code>./wandb/run-20211002_174745-tnwjk1dv/logs</code><br/>\n"
      ],
      "text/plain": [
       "<IPython.core.display.HTML object>"
      ]
     },
     "metadata": {},
     "output_type": "display_data"
    },
    {
     "name": "stderr",
     "output_type": "stream",
     "text": [
      "\u001b[34m\u001b[1mwandb\u001b[0m: Agent Starting Run: ep79hiqz with config:\n",
      "\u001b[34m\u001b[1mwandb\u001b[0m: \tdropout_rate: 0.1\n",
      "\u001b[34m\u001b[1mwandb\u001b[0m: \tlayer1_activation: relu\n",
      "\u001b[34m\u001b[1mwandb\u001b[0m: \tlayer1_size: 64\n",
      "\u001b[34m\u001b[1mwandb\u001b[0m: \tlearning_rate: 0.001\n",
      "\u001b[34m\u001b[1mwandb\u001b[0m: \toptimizer: rmsprop\n",
      "Failed to detect the name of this notebook, you can set it manually with the WANDB_NOTEBOOK_NAME environment variable to enable code saving.\n",
      "\u001b[34m\u001b[1mwandb\u001b[0m: \u001b[33mWARNING\u001b[0m Ignored wandb.init() arg project when running a sweep\n"
     ]
    },
    {
     "data": {
      "text/html": [
       "\n",
       "                    Syncing run <strong><a href=\"https://wandb.ai/hyunsooha/sweep-practice/runs/ep79hiqz\" target=\"_blank\">still-sweep-6</a></strong> to <a href=\"https://wandb.ai/hyunsooha/sweep-practice\" target=\"_blank\">Weights & Biases</a> (<a href=\"https://docs.wandb.com/integrations/jupyter.html\" target=\"_blank\">docs</a>).<br/>\n",
       "Sweep page: <a href=\"https://wandb.ai/hyunsooha/sweep-practice/sweeps/0iz1czq1\" target=\"_blank\">https://wandb.ai/hyunsooha/sweep-practice/sweeps/0iz1czq1</a><br/>\n",
       "\n",
       "                "
      ],
      "text/plain": [
       "<IPython.core.display.HTML object>"
      ]
     },
     "metadata": {},
     "output_type": "display_data"
    },
    {
     "name": "stdout",
     "output_type": "stream",
     "text": [
      "Epoch 1/5\n",
      "   2/1875 [..............................] - ETA: 8:58 - loss: 2.5641 - accuracy: 0.0469    WARNING:tensorflow:Callback method `on_train_batch_begin` is slow compared to the batch time (batch time: 0.0014s vs `on_train_batch_begin` time: 0.0464s). Check your callbacks.\n",
      "WARNING:tensorflow:Callback method `on_train_batch_end` is slow compared to the batch time (batch time: 0.0014s vs `on_train_batch_end` time: 0.0081s). Check your callbacks.\n",
      "1875/1875 [==============================] - 3s 1ms/step - loss: 0.5423 - accuracy: 0.8087 - val_loss: 0.4219 - val_accuracy: 0.8486\n",
      "Epoch 2/5\n",
      "1875/1875 [==============================] - 2s 1ms/step - loss: 0.4017 - accuracy: 0.8547 - val_loss: 0.3938 - val_accuracy: 0.8593\n",
      "Epoch 3/5\n",
      "1875/1875 [==============================] - 2s 1ms/step - loss: 0.3663 - accuracy: 0.8659 - val_loss: 0.3769 - val_accuracy: 0.8635\n",
      "Epoch 4/5\n",
      "1875/1875 [==============================] - 2s 1ms/step - loss: 0.3489 - accuracy: 0.8728 - val_loss: 0.3848 - val_accuracy: 0.8597\n",
      "Epoch 5/5\n",
      "1875/1875 [==============================] - 2s 1ms/step - loss: 0.3330 - accuracy: 0.8774 - val_loss: 0.3925 - val_accuracy: 0.8555\n"
     ]
    },
    {
     "data": {
      "text/html": [
       "<br/>Waiting for W&B process to finish, PID 13894... <strong style=\"color:green\">(success).</strong>"
      ],
      "text/plain": [
       "<IPython.core.display.HTML object>"
      ]
     },
     "metadata": {},
     "output_type": "display_data"
    },
    {
     "data": {
      "text/html": [
       "<style>\n",
       "    table.wandb td:nth-child(1) { padding: 0 10px; text-align: right }\n",
       "    .wandb-row { display: flex; flex-direction: row; flex-wrap: wrap; width: 100% }\n",
       "    .wandb-col { display: flex; flex-direction: column; flex-basis: 100%; flex: 1; padding: 10px; }\n",
       "    </style>\n",
       "<div class=\"wandb-row\"><div class=\"wandb-col\">\n",
       "<h3>Run history:</h3><br/><table class=\"wandb\"><tr><td>accuracy</td><td>▁▆▇██</td></tr><tr><td>epoch</td><td>▁▃▅▆█</td></tr><tr><td>loss</td><td>█▃▂▂▁</td></tr><tr><td>val_accuracy</td><td>▁▆█▆▄</td></tr><tr><td>val_loss</td><td>█▄▁▂▃</td></tr></table><br/></div><div class=\"wandb-col\">\n",
       "<h3>Run summary:</h3><br/><table class=\"wandb\"><tr><td>accuracy</td><td>0.8774</td></tr><tr><td>best_epoch</td><td>2</td></tr><tr><td>best_val_loss</td><td>0.37692</td></tr><tr><td>epoch</td><td>4</td></tr><tr><td>loss</td><td>0.33302</td></tr><tr><td>val_accuracy</td><td>0.8555</td></tr><tr><td>val_loss</td><td>0.39247</td></tr></table>\n",
       "</div></div>\n",
       "Synced 5 W&B file(s), 181 media file(s), 0 artifact file(s) and 11 other file(s)\n",
       "<br/>Synced <strong style=\"color:#cdcd00\">still-sweep-6</strong>: <a href=\"https://wandb.ai/hyunsooha/sweep-practice/runs/ep79hiqz\" target=\"_blank\">https://wandb.ai/hyunsooha/sweep-practice/runs/ep79hiqz</a><br/>\n",
       "Find logs at: <code>./wandb/run-20211002_174809-ep79hiqz/logs</code><br/>\n"
      ],
      "text/plain": [
       "<IPython.core.display.HTML object>"
      ]
     },
     "metadata": {},
     "output_type": "display_data"
    },
    {
     "name": "stderr",
     "output_type": "stream",
     "text": [
      "\u001b[34m\u001b[1mwandb\u001b[0m: Agent Starting Run: n6thro9x with config:\n",
      "\u001b[34m\u001b[1mwandb\u001b[0m: \tdropout_rate: 0.1\n",
      "\u001b[34m\u001b[1mwandb\u001b[0m: \tlayer1_activation: relu\n",
      "\u001b[34m\u001b[1mwandb\u001b[0m: \tlayer1_size: 96\n",
      "\u001b[34m\u001b[1mwandb\u001b[0m: \tlearning_rate: 0.1\n",
      "\u001b[34m\u001b[1mwandb\u001b[0m: \toptimizer: adam\n",
      "Failed to detect the name of this notebook, you can set it manually with the WANDB_NOTEBOOK_NAME environment variable to enable code saving.\n",
      "\u001b[34m\u001b[1mwandb\u001b[0m: \u001b[33mWARNING\u001b[0m Ignored wandb.init() arg project when running a sweep\n"
     ]
    },
    {
     "data": {
      "text/html": [
       "\n",
       "                    Syncing run <strong><a href=\"https://wandb.ai/hyunsooha/sweep-practice/runs/n6thro9x\" target=\"_blank\">peach-sweep-7</a></strong> to <a href=\"https://wandb.ai/hyunsooha/sweep-practice\" target=\"_blank\">Weights & Biases</a> (<a href=\"https://docs.wandb.com/integrations/jupyter.html\" target=\"_blank\">docs</a>).<br/>\n",
       "Sweep page: <a href=\"https://wandb.ai/hyunsooha/sweep-practice/sweeps/0iz1czq1\" target=\"_blank\">https://wandb.ai/hyunsooha/sweep-practice/sweeps/0iz1czq1</a><br/>\n",
       "\n",
       "                "
      ],
      "text/plain": [
       "<IPython.core.display.HTML object>"
      ]
     },
     "metadata": {},
     "output_type": "display_data"
    },
    {
     "name": "stdout",
     "output_type": "stream",
     "text": [
      "Epoch 1/5\n",
      "   2/1875 [..............................] - ETA: 9:05 - loss: 2.2017 - accuracy: 0.1562WARNING:tensorflow:Callback method `on_train_batch_begin` is slow compared to the batch time (batch time: 0.0015s vs `on_train_batch_begin` time: 0.0465s). Check your callbacks.\n",
      "WARNING:tensorflow:Callback method `on_train_batch_end` is slow compared to the batch time (batch time: 0.0015s vs `on_train_batch_end` time: 0.0085s). Check your callbacks.\n",
      "1875/1875 [==============================] - 3s 2ms/step - loss: 0.5238 - accuracy: 0.8154 - val_loss: 0.4325 - val_accuracy: 0.8457\n",
      "Epoch 2/5\n",
      "1875/1875 [==============================] - 2s 1ms/step - loss: 0.3903 - accuracy: 0.8597 - val_loss: 0.3952 - val_accuracy: 0.8552\n",
      "Epoch 3/5\n",
      "1875/1875 [==============================] - 2s 1ms/step - loss: 0.3551 - accuracy: 0.8711 - val_loss: 0.3731 - val_accuracy: 0.8657\n",
      "Epoch 4/5\n",
      "1875/1875 [==============================] - 2s 1ms/step - loss: 0.3348 - accuracy: 0.8770 - val_loss: 0.3706 - val_accuracy: 0.8652\n",
      "Epoch 5/5\n",
      "1875/1875 [==============================] - 2s 1ms/step - loss: 0.3203 - accuracy: 0.8810 - val_loss: 0.3462 - val_accuracy: 0.8791\n"
     ]
    },
    {
     "data": {
      "text/html": [
       "<br/>Waiting for W&B process to finish, PID 14579... <strong style=\"color:green\">(success).</strong>"
      ],
      "text/plain": [
       "<IPython.core.display.HTML object>"
      ]
     },
     "metadata": {},
     "output_type": "display_data"
    },
    {
     "data": {
      "text/html": [
       "<style>\n",
       "    table.wandb td:nth-child(1) { padding: 0 10px; text-align: right }\n",
       "    .wandb-row { display: flex; flex-direction: row; flex-wrap: wrap; width: 100% }\n",
       "    .wandb-col { display: flex; flex-direction: column; flex-basis: 100%; flex: 1; padding: 10px; }\n",
       "    </style>\n",
       "<div class=\"wandb-row\"><div class=\"wandb-col\">\n",
       "<h3>Run history:</h3><br/><table class=\"wandb\"><tr><td>accuracy</td><td>▁▆▇██</td></tr><tr><td>epoch</td><td>▁▃▅▆█</td></tr><tr><td>loss</td><td>█▃▂▁▁</td></tr><tr><td>val_accuracy</td><td>▁▃▅▅█</td></tr><tr><td>val_loss</td><td>█▅▃▃▁</td></tr></table><br/></div><div class=\"wandb-col\">\n",
       "<h3>Run summary:</h3><br/><table class=\"wandb\"><tr><td>accuracy</td><td>0.881</td></tr><tr><td>best_epoch</td><td>4</td></tr><tr><td>best_val_loss</td><td>0.3462</td></tr><tr><td>epoch</td><td>4</td></tr><tr><td>loss</td><td>0.3203</td></tr><tr><td>val_accuracy</td><td>0.8791</td></tr><tr><td>val_loss</td><td>0.3462</td></tr></table>\n",
       "</div></div>\n",
       "Synced 5 W&B file(s), 181 media file(s), 0 artifact file(s) and 11 other file(s)\n",
       "<br/>Synced <strong style=\"color:#cdcd00\">peach-sweep-7</strong>: <a href=\"https://wandb.ai/hyunsooha/sweep-practice/runs/n6thro9x\" target=\"_blank\">https://wandb.ai/hyunsooha/sweep-practice/runs/n6thro9x</a><br/>\n",
       "Find logs at: <code>./wandb/run-20211002_174832-n6thro9x/logs</code><br/>\n"
      ],
      "text/plain": [
       "<IPython.core.display.HTML object>"
      ]
     },
     "metadata": {},
     "output_type": "display_data"
    },
    {
     "name": "stderr",
     "output_type": "stream",
     "text": [
      "\u001b[34m\u001b[1mwandb\u001b[0m: Agent Starting Run: lchfg8bj with config:\n",
      "\u001b[34m\u001b[1mwandb\u001b[0m: \tdropout_rate: 0.1\n",
      "\u001b[34m\u001b[1mwandb\u001b[0m: \tlayer1_activation: relu\n",
      "\u001b[34m\u001b[1mwandb\u001b[0m: \tlayer1_size: 96\n",
      "\u001b[34m\u001b[1mwandb\u001b[0m: \tlearning_rate: 0.1\n",
      "\u001b[34m\u001b[1mwandb\u001b[0m: \toptimizer: rmsprop\n",
      "Failed to detect the name of this notebook, you can set it manually with the WANDB_NOTEBOOK_NAME environment variable to enable code saving.\n",
      "\u001b[34m\u001b[1mwandb\u001b[0m: \u001b[33mWARNING\u001b[0m Ignored wandb.init() arg project when running a sweep\n"
     ]
    },
    {
     "data": {
      "text/html": [
       "\n",
       "                    Syncing run <strong><a href=\"https://wandb.ai/hyunsooha/sweep-practice/runs/lchfg8bj\" target=\"_blank\">exalted-sweep-8</a></strong> to <a href=\"https://wandb.ai/hyunsooha/sweep-practice\" target=\"_blank\">Weights & Biases</a> (<a href=\"https://docs.wandb.com/integrations/jupyter.html\" target=\"_blank\">docs</a>).<br/>\n",
       "Sweep page: <a href=\"https://wandb.ai/hyunsooha/sweep-practice/sweeps/0iz1czq1\" target=\"_blank\">https://wandb.ai/hyunsooha/sweep-practice/sweeps/0iz1czq1</a><br/>\n",
       "\n",
       "                "
      ],
      "text/plain": [
       "<IPython.core.display.HTML object>"
      ]
     },
     "metadata": {},
     "output_type": "display_data"
    },
    {
     "name": "stdout",
     "output_type": "stream",
     "text": [
      "Epoch 1/5\n",
      "   6/1875 [..............................] - ETA: 2:08 - loss: 2.2235 - accuracy: 0.2396WARNING:tensorflow:Callback method `on_train_batch_begin` is slow compared to the batch time (batch time: 0.0015s vs `on_train_batch_begin` time: 0.0465s). Check your callbacks.\n",
      "WARNING:tensorflow:Callback method `on_train_batch_end` is slow compared to the batch time (batch time: 0.0015s vs `on_train_batch_end` time: 0.0094s). Check your callbacks.\n",
      "1875/1875 [==============================] - 3s 1ms/step - loss: 0.5295 - accuracy: 0.8122 - val_loss: 0.4440 - val_accuracy: 0.8342\n",
      "Epoch 2/5\n",
      "1875/1875 [==============================] - 2s 1ms/step - loss: 0.3900 - accuracy: 0.8583 - val_loss: 0.4069 - val_accuracy: 0.8503\n",
      "Epoch 3/5\n",
      "1875/1875 [==============================] - 2s 1ms/step - loss: 0.3549 - accuracy: 0.8709 - val_loss: 0.3730 - val_accuracy: 0.8605\n",
      "Epoch 4/5\n",
      "1875/1875 [==============================] - 2s 1ms/step - loss: 0.3349 - accuracy: 0.8772 - val_loss: 0.3566 - val_accuracy: 0.8713\n",
      "Epoch 5/5\n",
      "1875/1875 [==============================] - 2s 1ms/step - loss: 0.3179 - accuracy: 0.8838 - val_loss: 0.3644 - val_accuracy: 0.8624\n"
     ]
    },
    {
     "data": {
      "text/html": [
       "<br/>Waiting for W&B process to finish, PID 15263... <strong style=\"color:green\">(success).</strong>"
      ],
      "text/plain": [
       "<IPython.core.display.HTML object>"
      ]
     },
     "metadata": {},
     "output_type": "display_data"
    },
    {
     "data": {
      "text/html": [
       "<style>\n",
       "    table.wandb td:nth-child(1) { padding: 0 10px; text-align: right }\n",
       "    .wandb-row { display: flex; flex-direction: row; flex-wrap: wrap; width: 100% }\n",
       "    .wandb-col { display: flex; flex-direction: column; flex-basis: 100%; flex: 1; padding: 10px; }\n",
       "    </style>\n",
       "<div class=\"wandb-row\"><div class=\"wandb-col\">\n",
       "<h3>Run history:</h3><br/><table class=\"wandb\"><tr><td>accuracy</td><td>▁▆▇▇█</td></tr><tr><td>epoch</td><td>▁▃▅▆█</td></tr><tr><td>loss</td><td>█▃▂▂▁</td></tr><tr><td>val_accuracy</td><td>▁▄▆█▆</td></tr><tr><td>val_loss</td><td>█▅▂▁▂</td></tr></table><br/></div><div class=\"wandb-col\">\n",
       "<h3>Run summary:</h3><br/><table class=\"wandb\"><tr><td>accuracy</td><td>0.88385</td></tr><tr><td>best_epoch</td><td>3</td></tr><tr><td>best_val_loss</td><td>0.35657</td></tr><tr><td>epoch</td><td>4</td></tr><tr><td>loss</td><td>0.31792</td></tr><tr><td>val_accuracy</td><td>0.8624</td></tr><tr><td>val_loss</td><td>0.36435</td></tr></table>\n",
       "</div></div>\n",
       "Synced 5 W&B file(s), 181 media file(s), 0 artifact file(s) and 11 other file(s)\n",
       "<br/>Synced <strong style=\"color:#cdcd00\">exalted-sweep-8</strong>: <a href=\"https://wandb.ai/hyunsooha/sweep-practice/runs/lchfg8bj\" target=\"_blank\">https://wandb.ai/hyunsooha/sweep-practice/runs/lchfg8bj</a><br/>\n",
       "Find logs at: <code>./wandb/run-20211002_174856-lchfg8bj/logs</code><br/>\n"
      ],
      "text/plain": [
       "<IPython.core.display.HTML object>"
      ]
     },
     "metadata": {},
     "output_type": "display_data"
    },
    {
     "name": "stderr",
     "output_type": "stream",
     "text": [
      "\u001b[34m\u001b[1mwandb\u001b[0m: Agent Starting Run: 7i3lai6w with config:\n",
      "\u001b[34m\u001b[1mwandb\u001b[0m: \tdropout_rate: 0.1\n",
      "\u001b[34m\u001b[1mwandb\u001b[0m: \tlayer1_activation: relu\n",
      "\u001b[34m\u001b[1mwandb\u001b[0m: \tlayer1_size: 96\n",
      "\u001b[34m\u001b[1mwandb\u001b[0m: \tlearning_rate: 0.01\n",
      "\u001b[34m\u001b[1mwandb\u001b[0m: \toptimizer: adam\n",
      "Failed to detect the name of this notebook, you can set it manually with the WANDB_NOTEBOOK_NAME environment variable to enable code saving.\n",
      "\u001b[34m\u001b[1mwandb\u001b[0m: \u001b[33mWARNING\u001b[0m Ignored wandb.init() arg project when running a sweep\n"
     ]
    },
    {
     "data": {
      "text/html": [
       "\n",
       "                    Syncing run <strong><a href=\"https://wandb.ai/hyunsooha/sweep-practice/runs/7i3lai6w\" target=\"_blank\">laced-sweep-9</a></strong> to <a href=\"https://wandb.ai/hyunsooha/sweep-practice\" target=\"_blank\">Weights & Biases</a> (<a href=\"https://docs.wandb.com/integrations/jupyter.html\" target=\"_blank\">docs</a>).<br/>\n",
       "Sweep page: <a href=\"https://wandb.ai/hyunsooha/sweep-practice/sweeps/0iz1czq1\" target=\"_blank\">https://wandb.ai/hyunsooha/sweep-practice/sweeps/0iz1czq1</a><br/>\n",
       "\n",
       "                "
      ],
      "text/plain": [
       "<IPython.core.display.HTML object>"
      ]
     },
     "metadata": {},
     "output_type": "display_data"
    },
    {
     "name": "stdout",
     "output_type": "stream",
     "text": [
      "Epoch 1/5\n",
      "   2/1875 [..............................] - ETA: 9:04 - loss: 2.1178 - accuracy: 0.1875WARNING:tensorflow:Callback method `on_train_batch_begin` is slow compared to the batch time (batch time: 0.0014s vs `on_train_batch_begin` time: 0.0469s). Check your callbacks.\n",
      "WARNING:tensorflow:Callback method `on_train_batch_end` is slow compared to the batch time (batch time: 0.0014s vs `on_train_batch_end` time: 0.0081s). Check your callbacks.\n",
      "1875/1875 [==============================] - 3s 2ms/step - loss: 0.5223 - accuracy: 0.8152 - val_loss: 0.4224 - val_accuracy: 0.8482\n",
      "Epoch 2/5\n",
      "1875/1875 [==============================] - 2s 1ms/step - loss: 0.3924 - accuracy: 0.8573 - val_loss: 0.3927 - val_accuracy: 0.8551\n",
      "Epoch 3/5\n",
      "1875/1875 [==============================] - 2s 1ms/step - loss: 0.3565 - accuracy: 0.8697 - val_loss: 0.3848 - val_accuracy: 0.8645\n",
      "Epoch 4/5\n",
      "1875/1875 [==============================] - 2s 1ms/step - loss: 0.3346 - accuracy: 0.8784 - val_loss: 0.3657 - val_accuracy: 0.8684\n",
      "Epoch 5/5\n",
      "1875/1875 [==============================] - 2s 1ms/step - loss: 0.3186 - accuracy: 0.8828 - val_loss: 0.3591 - val_accuracy: 0.8701\n"
     ]
    },
    {
     "data": {
      "text/html": [
       "<br/>Waiting for W&B process to finish, PID 15950... <strong style=\"color:green\">(success).</strong>"
      ],
      "text/plain": [
       "<IPython.core.display.HTML object>"
      ]
     },
     "metadata": {},
     "output_type": "display_data"
    },
    {
     "data": {
      "text/html": [
       "<style>\n",
       "    table.wandb td:nth-child(1) { padding: 0 10px; text-align: right }\n",
       "    .wandb-row { display: flex; flex-direction: row; flex-wrap: wrap; width: 100% }\n",
       "    .wandb-col { display: flex; flex-direction: column; flex-basis: 100%; flex: 1; padding: 10px; }\n",
       "    </style>\n",
       "<div class=\"wandb-row\"><div class=\"wandb-col\">\n",
       "<h3>Run history:</h3><br/><table class=\"wandb\"><tr><td>accuracy</td><td>▁▅▇██</td></tr><tr><td>epoch</td><td>▁▃▅▆█</td></tr><tr><td>loss</td><td>█▄▂▂▁</td></tr><tr><td>val_accuracy</td><td>▁▃▆▇█</td></tr><tr><td>val_loss</td><td>█▅▄▂▁</td></tr></table><br/></div><div class=\"wandb-col\">\n",
       "<h3>Run summary:</h3><br/><table class=\"wandb\"><tr><td>accuracy</td><td>0.88285</td></tr><tr><td>best_epoch</td><td>4</td></tr><tr><td>best_val_loss</td><td>0.35906</td></tr><tr><td>epoch</td><td>4</td></tr><tr><td>loss</td><td>0.3186</td></tr><tr><td>val_accuracy</td><td>0.8701</td></tr><tr><td>val_loss</td><td>0.35906</td></tr></table>\n",
       "</div></div>\n",
       "Synced 5 W&B file(s), 181 media file(s), 0 artifact file(s) and 11 other file(s)\n",
       "<br/>Synced <strong style=\"color:#cdcd00\">laced-sweep-9</strong>: <a href=\"https://wandb.ai/hyunsooha/sweep-practice/runs/7i3lai6w\" target=\"_blank\">https://wandb.ai/hyunsooha/sweep-practice/runs/7i3lai6w</a><br/>\n",
       "Find logs at: <code>./wandb/run-20211002_174919-7i3lai6w/logs</code><br/>\n"
      ],
      "text/plain": [
       "<IPython.core.display.HTML object>"
      ]
     },
     "metadata": {},
     "output_type": "display_data"
    },
    {
     "name": "stderr",
     "output_type": "stream",
     "text": [
      "\u001b[34m\u001b[1mwandb\u001b[0m: Agent Starting Run: 5twwnck5 with config:\n",
      "\u001b[34m\u001b[1mwandb\u001b[0m: \tdropout_rate: 0.1\n",
      "\u001b[34m\u001b[1mwandb\u001b[0m: \tlayer1_activation: relu\n",
      "\u001b[34m\u001b[1mwandb\u001b[0m: \tlayer1_size: 96\n",
      "\u001b[34m\u001b[1mwandb\u001b[0m: \tlearning_rate: 0.01\n",
      "\u001b[34m\u001b[1mwandb\u001b[0m: \toptimizer: rmsprop\n",
      "Failed to detect the name of this notebook, you can set it manually with the WANDB_NOTEBOOK_NAME environment variable to enable code saving.\n",
      "\u001b[34m\u001b[1mwandb\u001b[0m: \u001b[33mWARNING\u001b[0m Ignored wandb.init() arg project when running a sweep\n"
     ]
    },
    {
     "data": {
      "text/html": [
       "\n",
       "                    Syncing run <strong><a href=\"https://wandb.ai/hyunsooha/sweep-practice/runs/5twwnck5\" target=\"_blank\">logical-sweep-10</a></strong> to <a href=\"https://wandb.ai/hyunsooha/sweep-practice\" target=\"_blank\">Weights & Biases</a> (<a href=\"https://docs.wandb.com/integrations/jupyter.html\" target=\"_blank\">docs</a>).<br/>\n",
       "Sweep page: <a href=\"https://wandb.ai/hyunsooha/sweep-practice/sweeps/0iz1czq1\" target=\"_blank\">https://wandb.ai/hyunsooha/sweep-practice/sweeps/0iz1czq1</a><br/>\n",
       "\n",
       "                "
      ],
      "text/plain": [
       "<IPython.core.display.HTML object>"
      ]
     },
     "metadata": {},
     "output_type": "display_data"
    },
    {
     "name": "stdout",
     "output_type": "stream",
     "text": [
      "Epoch 1/5\n",
      "   2/1875 [..............................] - ETA: 9:07 - loss: 2.2962 - accuracy: 0.2656WARNING:tensorflow:Callback method `on_train_batch_begin` is slow compared to the batch time (batch time: 0.0014s vs `on_train_batch_begin` time: 0.0472s). Check your callbacks.\n",
      "WARNING:tensorflow:Callback method `on_train_batch_end` is slow compared to the batch time (batch time: 0.0014s vs `on_train_batch_end` time: 0.0079s). Check your callbacks.\n",
      "1875/1875 [==============================] - 3s 1ms/step - loss: 0.5279 - accuracy: 0.8140 - val_loss: 0.4315 - val_accuracy: 0.8430\n",
      "Epoch 2/5\n",
      "1875/1875 [==============================] - 2s 1ms/step - loss: 0.3925 - accuracy: 0.8583 - val_loss: 0.3951 - val_accuracy: 0.8560\n",
      "Epoch 3/5\n",
      "1875/1875 [==============================] - 2s 1ms/step - loss: 0.3566 - accuracy: 0.8699 - val_loss: 0.3687 - val_accuracy: 0.8641\n",
      "Epoch 4/5\n",
      "1875/1875 [==============================] - 2s 1ms/step - loss: 0.3344 - accuracy: 0.8767 - val_loss: 0.3598 - val_accuracy: 0.8723\n",
      "Epoch 5/5\n",
      "1875/1875 [==============================] - 2s 1ms/step - loss: 0.3199 - accuracy: 0.8818 - val_loss: 0.3593 - val_accuracy: 0.8703\n"
     ]
    },
    {
     "data": {
      "text/html": [
       "<br/>Waiting for W&B process to finish, PID 16635... <strong style=\"color:green\">(success).</strong>"
      ],
      "text/plain": [
       "<IPython.core.display.HTML object>"
      ]
     },
     "metadata": {},
     "output_type": "display_data"
    },
    {
     "data": {
      "text/html": [
       "<style>\n",
       "    table.wandb td:nth-child(1) { padding: 0 10px; text-align: right }\n",
       "    .wandb-row { display: flex; flex-direction: row; flex-wrap: wrap; width: 100% }\n",
       "    .wandb-col { display: flex; flex-direction: column; flex-basis: 100%; flex: 1; padding: 10px; }\n",
       "    </style>\n",
       "<div class=\"wandb-row\"><div class=\"wandb-col\">\n",
       "<h3>Run history:</h3><br/><table class=\"wandb\"><tr><td>accuracy</td><td>▁▆▇▇█</td></tr><tr><td>epoch</td><td>▁▃▅▆█</td></tr><tr><td>loss</td><td>█▃▂▁▁</td></tr><tr><td>val_accuracy</td><td>▁▄▆██</td></tr><tr><td>val_loss</td><td>█▄▂▁▁</td></tr></table><br/></div><div class=\"wandb-col\">\n",
       "<h3>Run summary:</h3><br/><table class=\"wandb\"><tr><td>accuracy</td><td>0.8818</td></tr><tr><td>best_epoch</td><td>4</td></tr><tr><td>best_val_loss</td><td>0.35928</td></tr><tr><td>epoch</td><td>4</td></tr><tr><td>loss</td><td>0.31986</td></tr><tr><td>val_accuracy</td><td>0.8703</td></tr><tr><td>val_loss</td><td>0.35928</td></tr></table>\n",
       "</div></div>\n",
       "Synced 5 W&B file(s), 181 media file(s), 0 artifact file(s) and 11 other file(s)\n",
       "<br/>Synced <strong style=\"color:#cdcd00\">logical-sweep-10</strong>: <a href=\"https://wandb.ai/hyunsooha/sweep-practice/runs/5twwnck5\" target=\"_blank\">https://wandb.ai/hyunsooha/sweep-practice/runs/5twwnck5</a><br/>\n",
       "Find logs at: <code>./wandb/run-20211002_174943-5twwnck5/logs</code><br/>\n"
      ],
      "text/plain": [
       "<IPython.core.display.HTML object>"
      ]
     },
     "metadata": {},
     "output_type": "display_data"
    },
    {
     "name": "stderr",
     "output_type": "stream",
     "text": [
      "\u001b[34m\u001b[1mwandb\u001b[0m: Agent Starting Run: jrfa7ia3 with config:\n",
      "\u001b[34m\u001b[1mwandb\u001b[0m: \tdropout_rate: 0.1\n",
      "\u001b[34m\u001b[1mwandb\u001b[0m: \tlayer1_activation: relu\n",
      "\u001b[34m\u001b[1mwandb\u001b[0m: \tlayer1_size: 96\n",
      "\u001b[34m\u001b[1mwandb\u001b[0m: \tlearning_rate: 0.001\n",
      "\u001b[34m\u001b[1mwandb\u001b[0m: \toptimizer: adam\n",
      "Failed to detect the name of this notebook, you can set it manually with the WANDB_NOTEBOOK_NAME environment variable to enable code saving.\n",
      "\u001b[34m\u001b[1mwandb\u001b[0m: \u001b[33mWARNING\u001b[0m Ignored wandb.init() arg project when running a sweep\n"
     ]
    },
    {
     "data": {
      "text/html": [
       "\n",
       "                    Syncing run <strong><a href=\"https://wandb.ai/hyunsooha/sweep-practice/runs/jrfa7ia3\" target=\"_blank\">apricot-sweep-11</a></strong> to <a href=\"https://wandb.ai/hyunsooha/sweep-practice\" target=\"_blank\">Weights & Biases</a> (<a href=\"https://docs.wandb.com/integrations/jupyter.html\" target=\"_blank\">docs</a>).<br/>\n",
       "Sweep page: <a href=\"https://wandb.ai/hyunsooha/sweep-practice/sweeps/0iz1czq1\" target=\"_blank\">https://wandb.ai/hyunsooha/sweep-practice/sweeps/0iz1czq1</a><br/>\n",
       "\n",
       "                "
      ],
      "text/plain": [
       "<IPython.core.display.HTML object>"
      ]
     },
     "metadata": {},
     "output_type": "display_data"
    },
    {
     "name": "stdout",
     "output_type": "stream",
     "text": [
      "Epoch 1/5\n",
      "   2/1875 [..............................] - ETA: 9:03 - loss: 2.4397 - accuracy: 0.0938WARNING:tensorflow:Callback method `on_train_batch_begin` is slow compared to the batch time (batch time: 0.0014s vs `on_train_batch_begin` time: 0.0467s). Check your callbacks.\n",
      "WARNING:tensorflow:Callback method `on_train_batch_end` is slow compared to the batch time (batch time: 0.0014s vs `on_train_batch_end` time: 0.0079s). Check your callbacks.\n",
      "1875/1875 [==============================] - 3s 2ms/step - loss: 0.5222 - accuracy: 0.8148 - val_loss: 0.4201 - val_accuracy: 0.8480\n",
      "Epoch 2/5\n",
      "1875/1875 [==============================] - 2s 1ms/step - loss: 0.3917 - accuracy: 0.8573 - val_loss: 0.3835 - val_accuracy: 0.8613\n",
      "Epoch 3/5\n",
      "1875/1875 [==============================] - 2s 1ms/step - loss: 0.3566 - accuracy: 0.8694 - val_loss: 0.3862 - val_accuracy: 0.8628\n",
      "Epoch 4/5\n",
      "1875/1875 [==============================] - 2s 1ms/step - loss: 0.3350 - accuracy: 0.8780 - val_loss: 0.3683 - val_accuracy: 0.8686\n",
      "Epoch 5/5\n",
      "1875/1875 [==============================] - 2s 1ms/step - loss: 0.3191 - accuracy: 0.8825 - val_loss: 0.3576 - val_accuracy: 0.8729\n"
     ]
    },
    {
     "data": {
      "text/html": [
       "<br/>Waiting for W&B process to finish, PID 17324... <strong style=\"color:green\">(success).</strong>"
      ],
      "text/plain": [
       "<IPython.core.display.HTML object>"
      ]
     },
     "metadata": {},
     "output_type": "display_data"
    },
    {
     "data": {
      "text/html": [
       "<style>\n",
       "    table.wandb td:nth-child(1) { padding: 0 10px; text-align: right }\n",
       "    .wandb-row { display: flex; flex-direction: row; flex-wrap: wrap; width: 100% }\n",
       "    .wandb-col { display: flex; flex-direction: column; flex-basis: 100%; flex: 1; padding: 10px; }\n",
       "    </style>\n",
       "<div class=\"wandb-row\"><div class=\"wandb-col\">\n",
       "<h3>Run history:</h3><br/><table class=\"wandb\"><tr><td>accuracy</td><td>▁▅▇██</td></tr><tr><td>epoch</td><td>▁▃▅▆█</td></tr><tr><td>loss</td><td>█▄▂▂▁</td></tr><tr><td>val_accuracy</td><td>▁▅▅▇█</td></tr><tr><td>val_loss</td><td>█▄▄▂▁</td></tr></table><br/></div><div class=\"wandb-col\">\n",
       "<h3>Run summary:</h3><br/><table class=\"wandb\"><tr><td>accuracy</td><td>0.88248</td></tr><tr><td>best_epoch</td><td>4</td></tr><tr><td>best_val_loss</td><td>0.35759</td></tr><tr><td>epoch</td><td>4</td></tr><tr><td>loss</td><td>0.31914</td></tr><tr><td>val_accuracy</td><td>0.8729</td></tr><tr><td>val_loss</td><td>0.35759</td></tr></table>\n",
       "</div></div>\n",
       "Synced 5 W&B file(s), 181 media file(s), 0 artifact file(s) and 11 other file(s)\n",
       "<br/>Synced <strong style=\"color:#cdcd00\">apricot-sweep-11</strong>: <a href=\"https://wandb.ai/hyunsooha/sweep-practice/runs/jrfa7ia3\" target=\"_blank\">https://wandb.ai/hyunsooha/sweep-practice/runs/jrfa7ia3</a><br/>\n",
       "Find logs at: <code>./wandb/run-20211002_175006-jrfa7ia3/logs</code><br/>\n"
      ],
      "text/plain": [
       "<IPython.core.display.HTML object>"
      ]
     },
     "metadata": {},
     "output_type": "display_data"
    },
    {
     "name": "stderr",
     "output_type": "stream",
     "text": [
      "\u001b[34m\u001b[1mwandb\u001b[0m: Agent Starting Run: 10b4di3j with config:\n",
      "\u001b[34m\u001b[1mwandb\u001b[0m: \tdropout_rate: 0.1\n",
      "\u001b[34m\u001b[1mwandb\u001b[0m: \tlayer1_activation: relu\n",
      "\u001b[34m\u001b[1mwandb\u001b[0m: \tlayer1_size: 96\n",
      "\u001b[34m\u001b[1mwandb\u001b[0m: \tlearning_rate: 0.001\n",
      "\u001b[34m\u001b[1mwandb\u001b[0m: \toptimizer: rmsprop\n",
      "Failed to detect the name of this notebook, you can set it manually with the WANDB_NOTEBOOK_NAME environment variable to enable code saving.\n",
      "\u001b[34m\u001b[1mwandb\u001b[0m: \u001b[33mWARNING\u001b[0m Ignored wandb.init() arg project when running a sweep\n"
     ]
    },
    {
     "data": {
      "text/html": [
       "\n",
       "                    Syncing run <strong><a href=\"https://wandb.ai/hyunsooha/sweep-practice/runs/10b4di3j\" target=\"_blank\">silver-sweep-12</a></strong> to <a href=\"https://wandb.ai/hyunsooha/sweep-practice\" target=\"_blank\">Weights & Biases</a> (<a href=\"https://docs.wandb.com/integrations/jupyter.html\" target=\"_blank\">docs</a>).<br/>\n",
       "Sweep page: <a href=\"https://wandb.ai/hyunsooha/sweep-practice/sweeps/0iz1czq1\" target=\"_blank\">https://wandb.ai/hyunsooha/sweep-practice/sweeps/0iz1czq1</a><br/>\n",
       "\n",
       "                "
      ],
      "text/plain": [
       "<IPython.core.display.HTML object>"
      ]
     },
     "metadata": {},
     "output_type": "display_data"
    },
    {
     "name": "stdout",
     "output_type": "stream",
     "text": [
      "Epoch 1/5\n",
      "   2/1875 [..............................] - ETA: 9:12 - loss: 2.4180 - accuracy: 0.0781WARNING:tensorflow:Callback method `on_train_batch_begin` is slow compared to the batch time (batch time: 0.0014s vs `on_train_batch_begin` time: 0.0475s). Check your callbacks.\n",
      "WARNING:tensorflow:Callback method `on_train_batch_end` is slow compared to the batch time (batch time: 0.0014s vs `on_train_batch_end` time: 0.0086s). Check your callbacks.\n",
      "1875/1875 [==============================] - 3s 2ms/step - loss: 0.5302 - accuracy: 0.8136 - val_loss: 0.4467 - val_accuracy: 0.8388\n",
      "Epoch 2/5\n",
      "1875/1875 [==============================] - 2s 1ms/step - loss: 0.3944 - accuracy: 0.8584 - val_loss: 0.3930 - val_accuracy: 0.8596\n",
      "Epoch 3/5\n",
      "1875/1875 [==============================] - 2s 1ms/step - loss: 0.3587 - accuracy: 0.8680 - val_loss: 0.3774 - val_accuracy: 0.8617\n",
      "Epoch 4/5\n",
      "1875/1875 [==============================] - 2s 1ms/step - loss: 0.3374 - accuracy: 0.8771 - val_loss: 0.3600 - val_accuracy: 0.8711\n",
      "Epoch 5/5\n",
      "1875/1875 [==============================] - 2s 1ms/step - loss: 0.3192 - accuracy: 0.8823 - val_loss: 0.3482 - val_accuracy: 0.8766\n"
     ]
    },
    {
     "data": {
      "text/html": [
       "<br/>Waiting for W&B process to finish, PID 18008... <strong style=\"color:green\">(success).</strong>"
      ],
      "text/plain": [
       "<IPython.core.display.HTML object>"
      ]
     },
     "metadata": {},
     "output_type": "display_data"
    },
    {
     "data": {
      "text/html": [
       "<style>\n",
       "    table.wandb td:nth-child(1) { padding: 0 10px; text-align: right }\n",
       "    .wandb-row { display: flex; flex-direction: row; flex-wrap: wrap; width: 100% }\n",
       "    .wandb-col { display: flex; flex-direction: column; flex-basis: 100%; flex: 1; padding: 10px; }\n",
       "    </style>\n",
       "<div class=\"wandb-row\"><div class=\"wandb-col\">\n",
       "<h3>Run history:</h3><br/><table class=\"wandb\"><tr><td>accuracy</td><td>▁▆▇▇█</td></tr><tr><td>epoch</td><td>▁▃▅▆█</td></tr><tr><td>loss</td><td>█▃▂▂▁</td></tr><tr><td>val_accuracy</td><td>▁▅▅▇█</td></tr><tr><td>val_loss</td><td>█▄▃▂▁</td></tr></table><br/></div><div class=\"wandb-col\">\n",
       "<h3>Run summary:</h3><br/><table class=\"wandb\"><tr><td>accuracy</td><td>0.88227</td></tr><tr><td>best_epoch</td><td>4</td></tr><tr><td>best_val_loss</td><td>0.34825</td></tr><tr><td>epoch</td><td>4</td></tr><tr><td>loss</td><td>0.31921</td></tr><tr><td>val_accuracy</td><td>0.8766</td></tr><tr><td>val_loss</td><td>0.34825</td></tr></table>\n",
       "</div></div>\n",
       "Synced 5 W&B file(s), 181 media file(s), 0 artifact file(s) and 11 other file(s)\n",
       "<br/>Synced <strong style=\"color:#cdcd00\">silver-sweep-12</strong>: <a href=\"https://wandb.ai/hyunsooha/sweep-practice/runs/10b4di3j\" target=\"_blank\">https://wandb.ai/hyunsooha/sweep-practice/runs/10b4di3j</a><br/>\n",
       "Find logs at: <code>./wandb/run-20211002_175029-10b4di3j/logs</code><br/>\n"
      ],
      "text/plain": [
       "<IPython.core.display.HTML object>"
      ]
     },
     "metadata": {},
     "output_type": "display_data"
    },
    {
     "name": "stderr",
     "output_type": "stream",
     "text": [
      "\u001b[34m\u001b[1mwandb\u001b[0m: Agent Starting Run: m5rxkzde with config:\n",
      "\u001b[34m\u001b[1mwandb\u001b[0m: \tdropout_rate: 0.1\n",
      "\u001b[34m\u001b[1mwandb\u001b[0m: \tlayer1_activation: relu\n",
      "\u001b[34m\u001b[1mwandb\u001b[0m: \tlayer1_size: 128\n",
      "\u001b[34m\u001b[1mwandb\u001b[0m: \tlearning_rate: 0.1\n",
      "\u001b[34m\u001b[1mwandb\u001b[0m: \toptimizer: adam\n",
      "Failed to detect the name of this notebook, you can set it manually with the WANDB_NOTEBOOK_NAME environment variable to enable code saving.\n",
      "\u001b[34m\u001b[1mwandb\u001b[0m: \u001b[33mWARNING\u001b[0m Ignored wandb.init() arg project when running a sweep\n"
     ]
    },
    {
     "data": {
      "text/html": [
       "\n",
       "                    Syncing run <strong><a href=\"https://wandb.ai/hyunsooha/sweep-practice/runs/m5rxkzde\" target=\"_blank\">celestial-sweep-13</a></strong> to <a href=\"https://wandb.ai/hyunsooha/sweep-practice\" target=\"_blank\">Weights & Biases</a> (<a href=\"https://docs.wandb.com/integrations/jupyter.html\" target=\"_blank\">docs</a>).<br/>\n",
       "Sweep page: <a href=\"https://wandb.ai/hyunsooha/sweep-practice/sweeps/0iz1czq1\" target=\"_blank\">https://wandb.ai/hyunsooha/sweep-practice/sweeps/0iz1czq1</a><br/>\n",
       "\n",
       "                "
      ],
      "text/plain": [
       "<IPython.core.display.HTML object>"
      ]
     },
     "metadata": {},
     "output_type": "display_data"
    },
    {
     "name": "stdout",
     "output_type": "stream",
     "text": [
      "Epoch 1/5\n",
      "   2/1875 [..............................] - ETA: 9:08 - loss: 2.2918 - accuracy: 0.1875WARNING:tensorflow:Callback method `on_train_batch_begin` is slow compared to the batch time (batch time: 0.0013s vs `on_train_batch_begin` time: 0.0473s). Check your callbacks.\n",
      "WARNING:tensorflow:Callback method `on_train_batch_end` is slow compared to the batch time (batch time: 0.0013s vs `on_train_batch_end` time: 0.0085s). Check your callbacks.\n",
      "1875/1875 [==============================] - 3s 2ms/step - loss: 0.5185 - accuracy: 0.8177 - val_loss: 0.4290 - val_accuracy: 0.8503\n",
      "Epoch 2/5\n",
      "1875/1875 [==============================] - 2s 1ms/step - loss: 0.3888 - accuracy: 0.8589 - val_loss: 0.3788 - val_accuracy: 0.8622\n",
      "Epoch 3/5\n",
      "1875/1875 [==============================] - 2s 1ms/step - loss: 0.3541 - accuracy: 0.8715 - val_loss: 0.3863 - val_accuracy: 0.8629\n",
      "Epoch 4/5\n",
      "1875/1875 [==============================] - 2s 1ms/step - loss: 0.3310 - accuracy: 0.8782 - val_loss: 0.3573 - val_accuracy: 0.8685\n",
      "Epoch 5/5\n",
      "1875/1875 [==============================] - 2s 1ms/step - loss: 0.3137 - accuracy: 0.8849 - val_loss: 0.3622 - val_accuracy: 0.8698\n"
     ]
    },
    {
     "data": {
      "text/html": [
       "<br/>Waiting for W&B process to finish, PID 18694... <strong style=\"color:green\">(success).</strong>"
      ],
      "text/plain": [
       "<IPython.core.display.HTML object>"
      ]
     },
     "metadata": {},
     "output_type": "display_data"
    },
    {
     "data": {
      "text/html": [
       "<style>\n",
       "    table.wandb td:nth-child(1) { padding: 0 10px; text-align: right }\n",
       "    .wandb-row { display: flex; flex-direction: row; flex-wrap: wrap; width: 100% }\n",
       "    .wandb-col { display: flex; flex-direction: column; flex-basis: 100%; flex: 1; padding: 10px; }\n",
       "    </style>\n",
       "<div class=\"wandb-row\"><div class=\"wandb-col\">\n",
       "<h3>Run history:</h3><br/><table class=\"wandb\"><tr><td>accuracy</td><td>▁▅▇▇█</td></tr><tr><td>epoch</td><td>▁▃▅▆█</td></tr><tr><td>loss</td><td>█▄▂▂▁</td></tr><tr><td>val_accuracy</td><td>▁▅▆██</td></tr><tr><td>val_loss</td><td>█▃▄▁▁</td></tr></table><br/></div><div class=\"wandb-col\">\n",
       "<h3>Run summary:</h3><br/><table class=\"wandb\"><tr><td>accuracy</td><td>0.88493</td></tr><tr><td>best_epoch</td><td>3</td></tr><tr><td>best_val_loss</td><td>0.35729</td></tr><tr><td>epoch</td><td>4</td></tr><tr><td>loss</td><td>0.31374</td></tr><tr><td>val_accuracy</td><td>0.8698</td></tr><tr><td>val_loss</td><td>0.36224</td></tr></table>\n",
       "</div></div>\n",
       "Synced 5 W&B file(s), 181 media file(s), 0 artifact file(s) and 11 other file(s)\n",
       "<br/>Synced <strong style=\"color:#cdcd00\">celestial-sweep-13</strong>: <a href=\"https://wandb.ai/hyunsooha/sweep-practice/runs/m5rxkzde\" target=\"_blank\">https://wandb.ai/hyunsooha/sweep-practice/runs/m5rxkzde</a><br/>\n",
       "Find logs at: <code>./wandb/run-20211002_175053-m5rxkzde/logs</code><br/>\n"
      ],
      "text/plain": [
       "<IPython.core.display.HTML object>"
      ]
     },
     "metadata": {},
     "output_type": "display_data"
    },
    {
     "name": "stderr",
     "output_type": "stream",
     "text": [
      "\u001b[34m\u001b[1mwandb\u001b[0m: Agent Starting Run: kq9lyf4f with config:\n",
      "\u001b[34m\u001b[1mwandb\u001b[0m: \tdropout_rate: 0.1\n",
      "\u001b[34m\u001b[1mwandb\u001b[0m: \tlayer1_activation: relu\n",
      "\u001b[34m\u001b[1mwandb\u001b[0m: \tlayer1_size: 128\n",
      "\u001b[34m\u001b[1mwandb\u001b[0m: \tlearning_rate: 0.1\n",
      "\u001b[34m\u001b[1mwandb\u001b[0m: \toptimizer: rmsprop\n",
      "Failed to detect the name of this notebook, you can set it manually with the WANDB_NOTEBOOK_NAME environment variable to enable code saving.\n",
      "\u001b[34m\u001b[1mwandb\u001b[0m: \u001b[33mWARNING\u001b[0m Ignored wandb.init() arg project when running a sweep\n"
     ]
    },
    {
     "data": {
      "text/html": [
       "\n",
       "                    Syncing run <strong><a href=\"https://wandb.ai/hyunsooha/sweep-practice/runs/kq9lyf4f\" target=\"_blank\">scarlet-sweep-14</a></strong> to <a href=\"https://wandb.ai/hyunsooha/sweep-practice\" target=\"_blank\">Weights & Biases</a> (<a href=\"https://docs.wandb.com/integrations/jupyter.html\" target=\"_blank\">docs</a>).<br/>\n",
       "Sweep page: <a href=\"https://wandb.ai/hyunsooha/sweep-practice/sweeps/0iz1czq1\" target=\"_blank\">https://wandb.ai/hyunsooha/sweep-practice/sweeps/0iz1czq1</a><br/>\n",
       "\n",
       "                "
      ],
      "text/plain": [
       "<IPython.core.display.HTML object>"
      ]
     },
     "metadata": {},
     "output_type": "display_data"
    },
    {
     "name": "stdout",
     "output_type": "stream",
     "text": [
      "Epoch 1/5\n",
      "   2/1875 [..............................] - ETA: 9:08 - loss: 2.3912 - accuracy: 0.1562WARNING:tensorflow:Callback method `on_train_batch_begin` is slow compared to the batch time (batch time: 0.0013s vs `on_train_batch_begin` time: 0.0473s). Check your callbacks.\n",
      "WARNING:tensorflow:Callback method `on_train_batch_end` is slow compared to the batch time (batch time: 0.0013s vs `on_train_batch_end` time: 0.0082s). Check your callbacks.\n",
      "1875/1875 [==============================] - 3s 1ms/step - loss: 0.5183 - accuracy: 0.8186 - val_loss: 0.4173 - val_accuracy: 0.8522\n",
      "Epoch 2/5\n",
      "1875/1875 [==============================] - 2s 1ms/step - loss: 0.3877 - accuracy: 0.8594 - val_loss: 0.4168 - val_accuracy: 0.8499\n",
      "Epoch 3/5\n",
      "1875/1875 [==============================] - 2s 1ms/step - loss: 0.3526 - accuracy: 0.8702 - val_loss: 0.3830 - val_accuracy: 0.8613\n",
      "Epoch 4/5\n",
      "1875/1875 [==============================] - 2s 1ms/step - loss: 0.3280 - accuracy: 0.8790 - val_loss: 0.3547 - val_accuracy: 0.8754\n",
      "Epoch 5/5\n",
      "1875/1875 [==============================] - 2s 1ms/step - loss: 0.3120 - accuracy: 0.8862 - val_loss: 0.3470 - val_accuracy: 0.8752\n"
     ]
    },
    {
     "data": {
      "text/html": [
       "<br/>Waiting for W&B process to finish, PID 19378... <strong style=\"color:green\">(success).</strong>"
      ],
      "text/plain": [
       "<IPython.core.display.HTML object>"
      ]
     },
     "metadata": {},
     "output_type": "display_data"
    },
    {
     "data": {
      "text/html": [
       "<style>\n",
       "    table.wandb td:nth-child(1) { padding: 0 10px; text-align: right }\n",
       "    .wandb-row { display: flex; flex-direction: row; flex-wrap: wrap; width: 100% }\n",
       "    .wandb-col { display: flex; flex-direction: column; flex-basis: 100%; flex: 1; padding: 10px; }\n",
       "    </style>\n",
       "<div class=\"wandb-row\"><div class=\"wandb-col\">\n",
       "<h3>Run history:</h3><br/><table class=\"wandb\"><tr><td>accuracy</td><td>▁▅▆▇█</td></tr><tr><td>epoch</td><td>▁▃▅▆█</td></tr><tr><td>loss</td><td>█▄▂▂▁</td></tr><tr><td>val_accuracy</td><td>▂▁▄██</td></tr><tr><td>val_loss</td><td>██▅▂▁</td></tr></table><br/></div><div class=\"wandb-col\">\n",
       "<h3>Run summary:</h3><br/><table class=\"wandb\"><tr><td>accuracy</td><td>0.88623</td></tr><tr><td>best_epoch</td><td>4</td></tr><tr><td>best_val_loss</td><td>0.34704</td></tr><tr><td>epoch</td><td>4</td></tr><tr><td>loss</td><td>0.31202</td></tr><tr><td>val_accuracy</td><td>0.8752</td></tr><tr><td>val_loss</td><td>0.34704</td></tr></table>\n",
       "</div></div>\n",
       "Synced 5 W&B file(s), 181 media file(s), 0 artifact file(s) and 11 other file(s)\n",
       "<br/>Synced <strong style=\"color:#cdcd00\">scarlet-sweep-14</strong>: <a href=\"https://wandb.ai/hyunsooha/sweep-practice/runs/kq9lyf4f\" target=\"_blank\">https://wandb.ai/hyunsooha/sweep-practice/runs/kq9lyf4f</a><br/>\n",
       "Find logs at: <code>./wandb/run-20211002_175116-kq9lyf4f/logs</code><br/>\n"
      ],
      "text/plain": [
       "<IPython.core.display.HTML object>"
      ]
     },
     "metadata": {},
     "output_type": "display_data"
    },
    {
     "name": "stderr",
     "output_type": "stream",
     "text": [
      "\u001b[34m\u001b[1mwandb\u001b[0m: Agent Starting Run: bzssmkul with config:\n",
      "\u001b[34m\u001b[1mwandb\u001b[0m: \tdropout_rate: 0.1\n",
      "\u001b[34m\u001b[1mwandb\u001b[0m: \tlayer1_activation: relu\n",
      "\u001b[34m\u001b[1mwandb\u001b[0m: \tlayer1_size: 128\n",
      "\u001b[34m\u001b[1mwandb\u001b[0m: \tlearning_rate: 0.01\n",
      "\u001b[34m\u001b[1mwandb\u001b[0m: \toptimizer: adam\n",
      "Failed to detect the name of this notebook, you can set it manually with the WANDB_NOTEBOOK_NAME environment variable to enable code saving.\n",
      "\u001b[34m\u001b[1mwandb\u001b[0m: \u001b[33mWARNING\u001b[0m Ignored wandb.init() arg project when running a sweep\n"
     ]
    },
    {
     "data": {
      "text/html": [
       "\n",
       "                    Syncing run <strong><a href=\"https://wandb.ai/hyunsooha/sweep-practice/runs/bzssmkul\" target=\"_blank\">crimson-sweep-15</a></strong> to <a href=\"https://wandb.ai/hyunsooha/sweep-practice\" target=\"_blank\">Weights & Biases</a> (<a href=\"https://docs.wandb.com/integrations/jupyter.html\" target=\"_blank\">docs</a>).<br/>\n",
       "Sweep page: <a href=\"https://wandb.ai/hyunsooha/sweep-practice/sweeps/0iz1czq1\" target=\"_blank\">https://wandb.ai/hyunsooha/sweep-practice/sweeps/0iz1czq1</a><br/>\n",
       "\n",
       "                "
      ],
      "text/plain": [
       "<IPython.core.display.HTML object>"
      ]
     },
     "metadata": {},
     "output_type": "display_data"
    },
    {
     "name": "stdout",
     "output_type": "stream",
     "text": [
      "Epoch 1/5\n",
      "   2/1875 [..............................] - ETA: 9:26 - loss: 2.4000 - accuracy: 0.1562WARNING:tensorflow:Callback method `on_train_batch_begin` is slow compared to the batch time (batch time: 0.0015s vs `on_train_batch_begin` time: 0.0488s). Check your callbacks.\n",
      "WARNING:tensorflow:Callback method `on_train_batch_end` is slow compared to the batch time (batch time: 0.0015s vs `on_train_batch_end` time: 0.0085s). Check your callbacks.\n",
      "1875/1875 [==============================] - 3s 2ms/step - loss: 0.5160 - accuracy: 0.8194 - val_loss: 0.4177 - val_accuracy: 0.8515\n",
      "Epoch 2/5\n",
      "1875/1875 [==============================] - 2s 1ms/step - loss: 0.3883 - accuracy: 0.8599 - val_loss: 0.3792 - val_accuracy: 0.8631\n",
      "Epoch 3/5\n",
      "1875/1875 [==============================] - 2s 1ms/step - loss: 0.3526 - accuracy: 0.8707 - val_loss: 0.3829 - val_accuracy: 0.8637\n",
      "Epoch 4/5\n",
      "1875/1875 [==============================] - 2s 1ms/step - loss: 0.3324 - accuracy: 0.8772 - val_loss: 0.3690 - val_accuracy: 0.8665\n",
      "Epoch 5/5\n",
      "1875/1875 [==============================] - 2s 1ms/step - loss: 0.3153 - accuracy: 0.8839 - val_loss: 0.3490 - val_accuracy: 0.8728\n"
     ]
    },
    {
     "data": {
      "text/html": [
       "<br/>Waiting for W&B process to finish, PID 20063... <strong style=\"color:green\">(success).</strong>"
      ],
      "text/plain": [
       "<IPython.core.display.HTML object>"
      ]
     },
     "metadata": {},
     "output_type": "display_data"
    },
    {
     "data": {
      "text/html": [
       "<style>\n",
       "    table.wandb td:nth-child(1) { padding: 0 10px; text-align: right }\n",
       "    .wandb-row { display: flex; flex-direction: row; flex-wrap: wrap; width: 100% }\n",
       "    .wandb-col { display: flex; flex-direction: column; flex-basis: 100%; flex: 1; padding: 10px; }\n",
       "    </style>\n",
       "<div class=\"wandb-row\"><div class=\"wandb-col\">\n",
       "<h3>Run history:</h3><br/><table class=\"wandb\"><tr><td>accuracy</td><td>▁▅▇▇█</td></tr><tr><td>epoch</td><td>▁▃▅▆█</td></tr><tr><td>loss</td><td>█▄▂▂▁</td></tr><tr><td>val_accuracy</td><td>▁▅▅▆█</td></tr><tr><td>val_loss</td><td>█▄▄▃▁</td></tr></table><br/></div><div class=\"wandb-col\">\n",
       "<h3>Run summary:</h3><br/><table class=\"wandb\"><tr><td>accuracy</td><td>0.88395</td></tr><tr><td>best_epoch</td><td>4</td></tr><tr><td>best_val_loss</td><td>0.34905</td></tr><tr><td>epoch</td><td>4</td></tr><tr><td>loss</td><td>0.31532</td></tr><tr><td>val_accuracy</td><td>0.8728</td></tr><tr><td>val_loss</td><td>0.34905</td></tr></table>\n",
       "</div></div>\n",
       "Synced 5 W&B file(s), 181 media file(s), 0 artifact file(s) and 11 other file(s)\n",
       "<br/>Synced <strong style=\"color:#cdcd00\">crimson-sweep-15</strong>: <a href=\"https://wandb.ai/hyunsooha/sweep-practice/runs/bzssmkul\" target=\"_blank\">https://wandb.ai/hyunsooha/sweep-practice/runs/bzssmkul</a><br/>\n",
       "Find logs at: <code>./wandb/run-20211002_175139-bzssmkul/logs</code><br/>\n"
      ],
      "text/plain": [
       "<IPython.core.display.HTML object>"
      ]
     },
     "metadata": {},
     "output_type": "display_data"
    },
    {
     "name": "stderr",
     "output_type": "stream",
     "text": [
      "\u001b[34m\u001b[1mwandb\u001b[0m: Agent Starting Run: oa59jorm with config:\n",
      "\u001b[34m\u001b[1mwandb\u001b[0m: \tdropout_rate: 0.1\n",
      "\u001b[34m\u001b[1mwandb\u001b[0m: \tlayer1_activation: relu\n",
      "\u001b[34m\u001b[1mwandb\u001b[0m: \tlayer1_size: 128\n",
      "\u001b[34m\u001b[1mwandb\u001b[0m: \tlearning_rate: 0.01\n",
      "\u001b[34m\u001b[1mwandb\u001b[0m: \toptimizer: rmsprop\n",
      "Failed to detect the name of this notebook, you can set it manually with the WANDB_NOTEBOOK_NAME environment variable to enable code saving.\n",
      "\u001b[34m\u001b[1mwandb\u001b[0m: \u001b[33mWARNING\u001b[0m Ignored wandb.init() arg project when running a sweep\n"
     ]
    },
    {
     "data": {
      "text/html": [
       "\n",
       "                    Syncing run <strong><a href=\"https://wandb.ai/hyunsooha/sweep-practice/runs/oa59jorm\" target=\"_blank\">golden-sweep-16</a></strong> to <a href=\"https://wandb.ai/hyunsooha/sweep-practice\" target=\"_blank\">Weights & Biases</a> (<a href=\"https://docs.wandb.com/integrations/jupyter.html\" target=\"_blank\">docs</a>).<br/>\n",
       "Sweep page: <a href=\"https://wandb.ai/hyunsooha/sweep-practice/sweeps/0iz1czq1\" target=\"_blank\">https://wandb.ai/hyunsooha/sweep-practice/sweeps/0iz1czq1</a><br/>\n",
       "\n",
       "                "
      ],
      "text/plain": [
       "<IPython.core.display.HTML object>"
      ]
     },
     "metadata": {},
     "output_type": "display_data"
    },
    {
     "name": "stdout",
     "output_type": "stream",
     "text": [
      "Epoch 1/5\n",
      "   2/1875 [..............................] - ETA: 9:07 - loss: 2.3848 - accuracy: 0.1875WARNING:tensorflow:Callback method `on_train_batch_begin` is slow compared to the batch time (batch time: 0.0013s vs `on_train_batch_begin` time: 0.0472s). Check your callbacks.\n",
      "WARNING:tensorflow:Callback method `on_train_batch_end` is slow compared to the batch time (batch time: 0.0013s vs `on_train_batch_end` time: 0.0080s). Check your callbacks.\n",
      "1875/1875 [==============================] - 3s 1ms/step - loss: 0.5156 - accuracy: 0.8178 - val_loss: 0.4157 - val_accuracy: 0.8521\n",
      "Epoch 2/5\n",
      "1875/1875 [==============================] - 2s 1ms/step - loss: 0.3848 - accuracy: 0.8592 - val_loss: 0.3957 - val_accuracy: 0.8594\n",
      "Epoch 3/5\n",
      "1875/1875 [==============================] - 2s 1ms/step - loss: 0.3514 - accuracy: 0.8717 - val_loss: 0.3685 - val_accuracy: 0.8677\n",
      "Epoch 4/5\n",
      "1875/1875 [==============================] - 2s 1ms/step - loss: 0.3267 - accuracy: 0.8789 - val_loss: 0.3608 - val_accuracy: 0.8707\n",
      "Epoch 5/5\n",
      "1875/1875 [==============================] - 2s 1ms/step - loss: 0.3107 - accuracy: 0.8852 - val_loss: 0.3403 - val_accuracy: 0.8789\n"
     ]
    },
    {
     "data": {
      "text/html": [
       "<br/>Waiting for W&B process to finish, PID 20748... <strong style=\"color:green\">(success).</strong>"
      ],
      "text/plain": [
       "<IPython.core.display.HTML object>"
      ]
     },
     "metadata": {},
     "output_type": "display_data"
    },
    {
     "data": {
      "text/html": [
       "<style>\n",
       "    table.wandb td:nth-child(1) { padding: 0 10px; text-align: right }\n",
       "    .wandb-row { display: flex; flex-direction: row; flex-wrap: wrap; width: 100% }\n",
       "    .wandb-col { display: flex; flex-direction: column; flex-basis: 100%; flex: 1; padding: 10px; }\n",
       "    </style>\n",
       "<div class=\"wandb-row\"><div class=\"wandb-col\">\n",
       "<h3>Run history:</h3><br/><table class=\"wandb\"><tr><td>accuracy</td><td>▁▅▇▇█</td></tr><tr><td>epoch</td><td>▁▃▅▆█</td></tr><tr><td>loss</td><td>█▄▂▂▁</td></tr><tr><td>val_accuracy</td><td>▁▃▅▆█</td></tr><tr><td>val_loss</td><td>█▆▄▃▁</td></tr></table><br/></div><div class=\"wandb-col\">\n",
       "<h3>Run summary:</h3><br/><table class=\"wandb\"><tr><td>accuracy</td><td>0.8852</td></tr><tr><td>best_epoch</td><td>4</td></tr><tr><td>best_val_loss</td><td>0.34028</td></tr><tr><td>epoch</td><td>4</td></tr><tr><td>loss</td><td>0.31074</td></tr><tr><td>val_accuracy</td><td>0.8789</td></tr><tr><td>val_loss</td><td>0.34028</td></tr></table>\n",
       "</div></div>\n",
       "Synced 5 W&B file(s), 181 media file(s), 0 artifact file(s) and 11 other file(s)\n",
       "<br/>Synced <strong style=\"color:#cdcd00\">golden-sweep-16</strong>: <a href=\"https://wandb.ai/hyunsooha/sweep-practice/runs/oa59jorm\" target=\"_blank\">https://wandb.ai/hyunsooha/sweep-practice/runs/oa59jorm</a><br/>\n",
       "Find logs at: <code>./wandb/run-20211002_175202-oa59jorm/logs</code><br/>\n"
      ],
      "text/plain": [
       "<IPython.core.display.HTML object>"
      ]
     },
     "metadata": {},
     "output_type": "display_data"
    },
    {
     "name": "stderr",
     "output_type": "stream",
     "text": [
      "\u001b[34m\u001b[1mwandb\u001b[0m: Agent Starting Run: 2gz42hdz with config:\n",
      "\u001b[34m\u001b[1mwandb\u001b[0m: \tdropout_rate: 0.1\n",
      "\u001b[34m\u001b[1mwandb\u001b[0m: \tlayer1_activation: relu\n",
      "\u001b[34m\u001b[1mwandb\u001b[0m: \tlayer1_size: 128\n",
      "\u001b[34m\u001b[1mwandb\u001b[0m: \tlearning_rate: 0.001\n",
      "\u001b[34m\u001b[1mwandb\u001b[0m: \toptimizer: adam\n",
      "Failed to detect the name of this notebook, you can set it manually with the WANDB_NOTEBOOK_NAME environment variable to enable code saving.\n",
      "\u001b[34m\u001b[1mwandb\u001b[0m: \u001b[33mWARNING\u001b[0m Ignored wandb.init() arg project when running a sweep\n"
     ]
    },
    {
     "data": {
      "text/html": [
       "\n",
       "                    Syncing run <strong><a href=\"https://wandb.ai/hyunsooha/sweep-practice/runs/2gz42hdz\" target=\"_blank\">classic-sweep-17</a></strong> to <a href=\"https://wandb.ai/hyunsooha/sweep-practice\" target=\"_blank\">Weights & Biases</a> (<a href=\"https://docs.wandb.com/integrations/jupyter.html\" target=\"_blank\">docs</a>).<br/>\n",
       "Sweep page: <a href=\"https://wandb.ai/hyunsooha/sweep-practice/sweeps/0iz1czq1\" target=\"_blank\">https://wandb.ai/hyunsooha/sweep-practice/sweeps/0iz1czq1</a><br/>\n",
       "\n",
       "                "
      ],
      "text/plain": [
       "<IPython.core.display.HTML object>"
      ]
     },
     "metadata": {},
     "output_type": "display_data"
    },
    {
     "name": "stdout",
     "output_type": "stream",
     "text": [
      "Epoch 1/5\n",
      "   2/1875 [..............................] - ETA: 9:15 - loss: 2.3166 - accuracy: 0.1719WARNING:tensorflow:Callback method `on_train_batch_begin` is slow compared to the batch time (batch time: 0.0013s vs `on_train_batch_begin` time: 0.0471s). Check your callbacks.\n",
      "WARNING:tensorflow:Callback method `on_train_batch_end` is slow compared to the batch time (batch time: 0.0013s vs `on_train_batch_end` time: 0.0089s). Check your callbacks.\n",
      "1875/1875 [==============================] - 3s 2ms/step - loss: 0.5104 - accuracy: 0.8176 - val_loss: 0.4203 - val_accuracy: 0.8491\n",
      "Epoch 2/5\n",
      "1875/1875 [==============================] - 2s 1ms/step - loss: 0.3800 - accuracy: 0.8607 - val_loss: 0.4324 - val_accuracy: 0.8395\n",
      "Epoch 3/5\n",
      "1875/1875 [==============================] - 2s 1ms/step - loss: 0.3480 - accuracy: 0.8734 - val_loss: 0.3842 - val_accuracy: 0.8598\n",
      "Epoch 4/5\n",
      "1875/1875 [==============================] - 2s 1ms/step - loss: 0.3249 - accuracy: 0.8813 - val_loss: 0.3685 - val_accuracy: 0.8643\n",
      "Epoch 5/5\n",
      "1875/1875 [==============================] - 2s 1ms/step - loss: 0.3101 - accuracy: 0.8851 - val_loss: 0.3543 - val_accuracy: 0.8717\n"
     ]
    },
    {
     "data": {
      "text/html": [
       "<br/>Waiting for W&B process to finish, PID 21432... <strong style=\"color:green\">(success).</strong>"
      ],
      "text/plain": [
       "<IPython.core.display.HTML object>"
      ]
     },
     "metadata": {},
     "output_type": "display_data"
    },
    {
     "data": {
      "text/html": [
       "<style>\n",
       "    table.wandb td:nth-child(1) { padding: 0 10px; text-align: right }\n",
       "    .wandb-row { display: flex; flex-direction: row; flex-wrap: wrap; width: 100% }\n",
       "    .wandb-col { display: flex; flex-direction: column; flex-basis: 100%; flex: 1; padding: 10px; }\n",
       "    </style>\n",
       "<div class=\"wandb-row\"><div class=\"wandb-col\">\n",
       "<h3>Run history:</h3><br/><table class=\"wandb\"><tr><td>accuracy</td><td>▁▅▇██</td></tr><tr><td>epoch</td><td>▁▃▅▆█</td></tr><tr><td>loss</td><td>█▃▂▂▁</td></tr><tr><td>val_accuracy</td><td>▃▁▅▆█</td></tr><tr><td>val_loss</td><td>▇█▄▂▁</td></tr></table><br/></div><div class=\"wandb-col\">\n",
       "<h3>Run summary:</h3><br/><table class=\"wandb\"><tr><td>accuracy</td><td>0.88512</td></tr><tr><td>best_epoch</td><td>4</td></tr><tr><td>best_val_loss</td><td>0.35431</td></tr><tr><td>epoch</td><td>4</td></tr><tr><td>loss</td><td>0.31014</td></tr><tr><td>val_accuracy</td><td>0.8717</td></tr><tr><td>val_loss</td><td>0.35431</td></tr></table>\n",
       "</div></div>\n",
       "Synced 5 W&B file(s), 181 media file(s), 0 artifact file(s) and 11 other file(s)\n",
       "<br/>Synced <strong style=\"color:#cdcd00\">classic-sweep-17</strong>: <a href=\"https://wandb.ai/hyunsooha/sweep-practice/runs/2gz42hdz\" target=\"_blank\">https://wandb.ai/hyunsooha/sweep-practice/runs/2gz42hdz</a><br/>\n",
       "Find logs at: <code>./wandb/run-20211002_175226-2gz42hdz/logs</code><br/>\n"
      ],
      "text/plain": [
       "<IPython.core.display.HTML object>"
      ]
     },
     "metadata": {},
     "output_type": "display_data"
    },
    {
     "name": "stderr",
     "output_type": "stream",
     "text": [
      "\u001b[34m\u001b[1mwandb\u001b[0m: Agent Starting Run: 9hlw1tkh with config:\n",
      "\u001b[34m\u001b[1mwandb\u001b[0m: \tdropout_rate: 0.1\n",
      "\u001b[34m\u001b[1mwandb\u001b[0m: \tlayer1_activation: relu\n",
      "\u001b[34m\u001b[1mwandb\u001b[0m: \tlayer1_size: 128\n",
      "\u001b[34m\u001b[1mwandb\u001b[0m: \tlearning_rate: 0.001\n",
      "\u001b[34m\u001b[1mwandb\u001b[0m: \toptimizer: rmsprop\n",
      "Failed to detect the name of this notebook, you can set it manually with the WANDB_NOTEBOOK_NAME environment variable to enable code saving.\n",
      "\u001b[34m\u001b[1mwandb\u001b[0m: \u001b[33mWARNING\u001b[0m Ignored wandb.init() arg project when running a sweep\n"
     ]
    },
    {
     "data": {
      "text/html": [
       "\n",
       "                    Syncing run <strong><a href=\"https://wandb.ai/hyunsooha/sweep-practice/runs/9hlw1tkh\" target=\"_blank\">stoic-sweep-18</a></strong> to <a href=\"https://wandb.ai/hyunsooha/sweep-practice\" target=\"_blank\">Weights & Biases</a> (<a href=\"https://docs.wandb.com/integrations/jupyter.html\" target=\"_blank\">docs</a>).<br/>\n",
       "Sweep page: <a href=\"https://wandb.ai/hyunsooha/sweep-practice/sweeps/0iz1czq1\" target=\"_blank\">https://wandb.ai/hyunsooha/sweep-practice/sweeps/0iz1czq1</a><br/>\n",
       "\n",
       "                "
      ],
      "text/plain": [
       "<IPython.core.display.HTML object>"
      ]
     },
     "metadata": {},
     "output_type": "display_data"
    },
    {
     "name": "stdout",
     "output_type": "stream",
     "text": [
      "Epoch 1/5\n",
      "   2/1875 [..............................] - ETA: 9:16 - loss: 2.5518 - accuracy: 0.0625WARNING:tensorflow:Callback method `on_train_batch_begin` is slow compared to the batch time (batch time: 0.0014s vs `on_train_batch_begin` time: 0.0479s). Check your callbacks.\n",
      "WARNING:tensorflow:Callback method `on_train_batch_end` is slow compared to the batch time (batch time: 0.0014s vs `on_train_batch_end` time: 0.0081s). Check your callbacks.\n",
      "1875/1875 [==============================] - 3s 2ms/step - loss: 0.5120 - accuracy: 0.8193 - val_loss: 0.4361 - val_accuracy: 0.8407\n",
      "Epoch 2/5\n",
      "1875/1875 [==============================] - 2s 1ms/step - loss: 0.3863 - accuracy: 0.8588 - val_loss: 0.4010 - val_accuracy: 0.8560\n",
      "Epoch 3/5\n",
      "1875/1875 [==============================] - 2s 1ms/step - loss: 0.3497 - accuracy: 0.8727 - val_loss: 0.3773 - val_accuracy: 0.8641\n",
      "Epoch 4/5\n",
      "1875/1875 [==============================] - 2s 1ms/step - loss: 0.3300 - accuracy: 0.8789 - val_loss: 0.3496 - val_accuracy: 0.8726\n",
      "Epoch 5/5\n",
      "1875/1875 [==============================] - 2s 1ms/step - loss: 0.3102 - accuracy: 0.8861 - val_loss: 0.3450 - val_accuracy: 0.8746\n"
     ]
    },
    {
     "data": {
      "text/html": [
       "<br/>Waiting for W&B process to finish, PID 22117... <strong style=\"color:green\">(success).</strong>"
      ],
      "text/plain": [
       "<IPython.core.display.HTML object>"
      ]
     },
     "metadata": {},
     "output_type": "display_data"
    },
    {
     "data": {
      "text/html": [
       "<style>\n",
       "    table.wandb td:nth-child(1) { padding: 0 10px; text-align: right }\n",
       "    .wandb-row { display: flex; flex-direction: row; flex-wrap: wrap; width: 100% }\n",
       "    .wandb-col { display: flex; flex-direction: column; flex-basis: 100%; flex: 1; padding: 10px; }\n",
       "    </style>\n",
       "<div class=\"wandb-row\"><div class=\"wandb-col\">\n",
       "<h3>Run history:</h3><br/><table class=\"wandb\"><tr><td>accuracy</td><td>▁▅▇▇█</td></tr><tr><td>epoch</td><td>▁▃▅▆█</td></tr><tr><td>loss</td><td>█▄▂▂▁</td></tr><tr><td>val_accuracy</td><td>▁▄▆██</td></tr><tr><td>val_loss</td><td>█▅▃▁▁</td></tr></table><br/></div><div class=\"wandb-col\">\n",
       "<h3>Run summary:</h3><br/><table class=\"wandb\"><tr><td>accuracy</td><td>0.8861</td></tr><tr><td>best_epoch</td><td>4</td></tr><tr><td>best_val_loss</td><td>0.34497</td></tr><tr><td>epoch</td><td>4</td></tr><tr><td>loss</td><td>0.31021</td></tr><tr><td>val_accuracy</td><td>0.8746</td></tr><tr><td>val_loss</td><td>0.34497</td></tr></table>\n",
       "</div></div>\n",
       "Synced 5 W&B file(s), 181 media file(s), 0 artifact file(s) and 11 other file(s)\n",
       "<br/>Synced <strong style=\"color:#cdcd00\">stoic-sweep-18</strong>: <a href=\"https://wandb.ai/hyunsooha/sweep-practice/runs/9hlw1tkh\" target=\"_blank\">https://wandb.ai/hyunsooha/sweep-practice/runs/9hlw1tkh</a><br/>\n",
       "Find logs at: <code>./wandb/run-20211002_175250-9hlw1tkh/logs</code><br/>\n"
      ],
      "text/plain": [
       "<IPython.core.display.HTML object>"
      ]
     },
     "metadata": {},
     "output_type": "display_data"
    },
    {
     "name": "stderr",
     "output_type": "stream",
     "text": [
      "\u001b[34m\u001b[1mwandb\u001b[0m: Agent Starting Run: vi3kf97t with config:\n",
      "\u001b[34m\u001b[1mwandb\u001b[0m: \tdropout_rate: 0.1\n",
      "\u001b[34m\u001b[1mwandb\u001b[0m: \tlayer1_activation: sigmoid\n",
      "\u001b[34m\u001b[1mwandb\u001b[0m: \tlayer1_size: 64\n",
      "\u001b[34m\u001b[1mwandb\u001b[0m: \tlearning_rate: 0.1\n",
      "\u001b[34m\u001b[1mwandb\u001b[0m: \toptimizer: adam\n",
      "Failed to detect the name of this notebook, you can set it manually with the WANDB_NOTEBOOK_NAME environment variable to enable code saving.\n",
      "\u001b[34m\u001b[1mwandb\u001b[0m: \u001b[33mWARNING\u001b[0m Ignored wandb.init() arg project when running a sweep\n"
     ]
    },
    {
     "data": {
      "text/html": [
       "\n",
       "                    Syncing run <strong><a href=\"https://wandb.ai/hyunsooha/sweep-practice/runs/vi3kf97t\" target=\"_blank\">pious-sweep-19</a></strong> to <a href=\"https://wandb.ai/hyunsooha/sweep-practice\" target=\"_blank\">Weights & Biases</a> (<a href=\"https://docs.wandb.com/integrations/jupyter.html\" target=\"_blank\">docs</a>).<br/>\n",
       "Sweep page: <a href=\"https://wandb.ai/hyunsooha/sweep-practice/sweeps/0iz1czq1\" target=\"_blank\">https://wandb.ai/hyunsooha/sweep-practice/sweeps/0iz1czq1</a><br/>\n",
       "\n",
       "                "
      ],
      "text/plain": [
       "<IPython.core.display.HTML object>"
      ]
     },
     "metadata": {},
     "output_type": "display_data"
    },
    {
     "name": "stdout",
     "output_type": "stream",
     "text": [
      "Epoch 1/5\n",
      "   2/1875 [..............................] - ETA: 9:09 - loss: 2.3810 - accuracy: 0.0625WARNING:tensorflow:Callback method `on_train_batch_begin` is slow compared to the batch time (batch time: 0.0013s vs `on_train_batch_begin` time: 0.0474s). Check your callbacks.\n",
      "WARNING:tensorflow:Callback method `on_train_batch_end` is slow compared to the batch time (batch time: 0.0013s vs `on_train_batch_end` time: 0.0079s). Check your callbacks.\n",
      "1875/1875 [==============================] - 3s 2ms/step - loss: 0.6170 - accuracy: 0.7951 - val_loss: 0.4616 - val_accuracy: 0.8361\n",
      "Epoch 2/5\n",
      "1875/1875 [==============================] - 2s 1ms/step - loss: 0.4296 - accuracy: 0.8455 - val_loss: 0.4192 - val_accuracy: 0.8484\n",
      "Epoch 3/5\n",
      "1875/1875 [==============================] - 2s 1ms/step - loss: 0.3918 - accuracy: 0.8584 - val_loss: 0.3966 - val_accuracy: 0.8578\n",
      "Epoch 4/5\n",
      "1875/1875 [==============================] - 2s 1ms/step - loss: 0.3693 - accuracy: 0.8669 - val_loss: 0.3859 - val_accuracy: 0.8617\n",
      "Epoch 5/5\n",
      "1875/1875 [==============================] - 2s 1ms/step - loss: 0.3531 - accuracy: 0.8726 - val_loss: 0.3853 - val_accuracy: 0.8614\n"
     ]
    },
    {
     "data": {
      "text/html": [
       "<br/>Waiting for W&B process to finish, PID 22802... <strong style=\"color:green\">(success).</strong>"
      ],
      "text/plain": [
       "<IPython.core.display.HTML object>"
      ]
     },
     "metadata": {},
     "output_type": "display_data"
    },
    {
     "data": {
      "text/html": [
       "<style>\n",
       "    table.wandb td:nth-child(1) { padding: 0 10px; text-align: right }\n",
       "    .wandb-row { display: flex; flex-direction: row; flex-wrap: wrap; width: 100% }\n",
       "    .wandb-col { display: flex; flex-direction: column; flex-basis: 100%; flex: 1; padding: 10px; }\n",
       "    </style>\n",
       "<div class=\"wandb-row\"><div class=\"wandb-col\">\n",
       "<h3>Run history:</h3><br/><table class=\"wandb\"><tr><td>accuracy</td><td>▁▆▇▇█</td></tr><tr><td>epoch</td><td>▁▃▅▆█</td></tr><tr><td>loss</td><td>█▃▂▁▁</td></tr><tr><td>val_accuracy</td><td>▁▄▇██</td></tr><tr><td>val_loss</td><td>█▄▂▁▁</td></tr></table><br/></div><div class=\"wandb-col\">\n",
       "<h3>Run summary:</h3><br/><table class=\"wandb\"><tr><td>accuracy</td><td>0.87263</td></tr><tr><td>best_epoch</td><td>4</td></tr><tr><td>best_val_loss</td><td>0.38529</td></tr><tr><td>epoch</td><td>4</td></tr><tr><td>loss</td><td>0.35305</td></tr><tr><td>val_accuracy</td><td>0.8614</td></tr><tr><td>val_loss</td><td>0.38529</td></tr></table>\n",
       "</div></div>\n",
       "Synced 5 W&B file(s), 181 media file(s), 0 artifact file(s) and 11 other file(s)\n",
       "<br/>Synced <strong style=\"color:#cdcd00\">pious-sweep-19</strong>: <a href=\"https://wandb.ai/hyunsooha/sweep-practice/runs/vi3kf97t\" target=\"_blank\">https://wandb.ai/hyunsooha/sweep-practice/runs/vi3kf97t</a><br/>\n",
       "Find logs at: <code>./wandb/run-20211002_175313-vi3kf97t/logs</code><br/>\n"
      ],
      "text/plain": [
       "<IPython.core.display.HTML object>"
      ]
     },
     "metadata": {},
     "output_type": "display_data"
    },
    {
     "name": "stderr",
     "output_type": "stream",
     "text": [
      "\u001b[34m\u001b[1mwandb\u001b[0m: Agent Starting Run: gouyvwn6 with config:\n",
      "\u001b[34m\u001b[1mwandb\u001b[0m: \tdropout_rate: 0.1\n",
      "\u001b[34m\u001b[1mwandb\u001b[0m: \tlayer1_activation: sigmoid\n",
      "\u001b[34m\u001b[1mwandb\u001b[0m: \tlayer1_size: 64\n",
      "\u001b[34m\u001b[1mwandb\u001b[0m: \tlearning_rate: 0.1\n",
      "\u001b[34m\u001b[1mwandb\u001b[0m: \toptimizer: rmsprop\n",
      "Failed to detect the name of this notebook, you can set it manually with the WANDB_NOTEBOOK_NAME environment variable to enable code saving.\n",
      "\u001b[34m\u001b[1mwandb\u001b[0m: \u001b[33mWARNING\u001b[0m Ignored wandb.init() arg project when running a sweep\n"
     ]
    },
    {
     "data": {
      "text/html": [
       "\n",
       "                    Syncing run <strong><a href=\"https://wandb.ai/hyunsooha/sweep-practice/runs/gouyvwn6\" target=\"_blank\">smooth-sweep-20</a></strong> to <a href=\"https://wandb.ai/hyunsooha/sweep-practice\" target=\"_blank\">Weights & Biases</a> (<a href=\"https://docs.wandb.com/integrations/jupyter.html\" target=\"_blank\">docs</a>).<br/>\n",
       "Sweep page: <a href=\"https://wandb.ai/hyunsooha/sweep-practice/sweeps/0iz1czq1\" target=\"_blank\">https://wandb.ai/hyunsooha/sweep-practice/sweeps/0iz1czq1</a><br/>\n",
       "\n",
       "                "
      ],
      "text/plain": [
       "<IPython.core.display.HTML object>"
      ]
     },
     "metadata": {},
     "output_type": "display_data"
    },
    {
     "name": "stdout",
     "output_type": "stream",
     "text": [
      "Epoch 1/5\n",
      "   3/1875 [..............................] - ETA: 5:30 - loss: 2.5246 - accuracy: 0.0833WARNING:tensorflow:Callback method `on_train_batch_begin` is slow compared to the batch time (batch time: 0.0016s vs `on_train_batch_begin` time: 0.0487s). Check your callbacks.\n",
      "WARNING:tensorflow:Callback method `on_train_batch_end` is slow compared to the batch time (batch time: 0.0016s vs `on_train_batch_end` time: 0.0096s). Check your callbacks.\n",
      "1875/1875 [==============================] - 3s 2ms/step - loss: 0.6178 - accuracy: 0.7934 - val_loss: 0.4744 - val_accuracy: 0.8273\n",
      "Epoch 2/5\n",
      "1875/1875 [==============================] - 2s 1ms/step - loss: 0.4259 - accuracy: 0.8481 - val_loss: 0.4199 - val_accuracy: 0.8451\n",
      "Epoch 3/5\n",
      "1875/1875 [==============================] - 2s 1ms/step - loss: 0.3891 - accuracy: 0.8590 - val_loss: 0.3945 - val_accuracy: 0.8583\n",
      "Epoch 4/5\n",
      "1875/1875 [==============================] - 2s 1ms/step - loss: 0.3673 - accuracy: 0.8674 - val_loss: 0.3795 - val_accuracy: 0.8631\n",
      "Epoch 5/5\n",
      "1875/1875 [==============================] - 2s 1ms/step - loss: 0.3512 - accuracy: 0.8731 - val_loss: 0.3740 - val_accuracy: 0.8657\n"
     ]
    },
    {
     "data": {
      "text/html": [
       "<br/>Waiting for W&B process to finish, PID 23487... <strong style=\"color:green\">(success).</strong>"
      ],
      "text/plain": [
       "<IPython.core.display.HTML object>"
      ]
     },
     "metadata": {},
     "output_type": "display_data"
    },
    {
     "data": {
      "text/html": [
       "<style>\n",
       "    table.wandb td:nth-child(1) { padding: 0 10px; text-align: right }\n",
       "    .wandb-row { display: flex; flex-direction: row; flex-wrap: wrap; width: 100% }\n",
       "    .wandb-col { display: flex; flex-direction: column; flex-basis: 100%; flex: 1; padding: 10px; }\n",
       "    </style>\n",
       "<div class=\"wandb-row\"><div class=\"wandb-col\">\n",
       "<h3>Run history:</h3><br/><table class=\"wandb\"><tr><td>accuracy</td><td>▁▆▇██</td></tr><tr><td>epoch</td><td>▁▃▅▆█</td></tr><tr><td>loss</td><td>█▃▂▁▁</td></tr><tr><td>val_accuracy</td><td>▁▄▇██</td></tr><tr><td>val_loss</td><td>█▄▂▁▁</td></tr></table><br/></div><div class=\"wandb-col\">\n",
       "<h3>Run summary:</h3><br/><table class=\"wandb\"><tr><td>accuracy</td><td>0.8731</td></tr><tr><td>best_epoch</td><td>4</td></tr><tr><td>best_val_loss</td><td>0.37403</td></tr><tr><td>epoch</td><td>4</td></tr><tr><td>loss</td><td>0.35117</td></tr><tr><td>val_accuracy</td><td>0.8657</td></tr><tr><td>val_loss</td><td>0.37403</td></tr></table>\n",
       "</div></div>\n",
       "Synced 5 W&B file(s), 181 media file(s), 0 artifact file(s) and 11 other file(s)\n",
       "<br/>Synced <strong style=\"color:#cdcd00\">smooth-sweep-20</strong>: <a href=\"https://wandb.ai/hyunsooha/sweep-practice/runs/gouyvwn6\" target=\"_blank\">https://wandb.ai/hyunsooha/sweep-practice/runs/gouyvwn6</a><br/>\n",
       "Find logs at: <code>./wandb/run-20211002_175337-gouyvwn6/logs</code><br/>\n"
      ],
      "text/plain": [
       "<IPython.core.display.HTML object>"
      ]
     },
     "metadata": {},
     "output_type": "display_data"
    },
    {
     "name": "stderr",
     "output_type": "stream",
     "text": [
      "\u001b[34m\u001b[1mwandb\u001b[0m: Agent Starting Run: wg2zfv7z with config:\n",
      "\u001b[34m\u001b[1mwandb\u001b[0m: \tdropout_rate: 0.1\n",
      "\u001b[34m\u001b[1mwandb\u001b[0m: \tlayer1_activation: sigmoid\n",
      "\u001b[34m\u001b[1mwandb\u001b[0m: \tlayer1_size: 64\n",
      "\u001b[34m\u001b[1mwandb\u001b[0m: \tlearning_rate: 0.01\n",
      "\u001b[34m\u001b[1mwandb\u001b[0m: \toptimizer: adam\n",
      "Failed to detect the name of this notebook, you can set it manually with the WANDB_NOTEBOOK_NAME environment variable to enable code saving.\n",
      "\u001b[34m\u001b[1mwandb\u001b[0m: \u001b[33mWARNING\u001b[0m Ignored wandb.init() arg project when running a sweep\n"
     ]
    },
    {
     "data": {
      "text/html": [
       "\n",
       "                    Syncing run <strong><a href=\"https://wandb.ai/hyunsooha/sweep-practice/runs/wg2zfv7z\" target=\"_blank\">glorious-sweep-21</a></strong> to <a href=\"https://wandb.ai/hyunsooha/sweep-practice\" target=\"_blank\">Weights & Biases</a> (<a href=\"https://docs.wandb.com/integrations/jupyter.html\" target=\"_blank\">docs</a>).<br/>\n",
       "Sweep page: <a href=\"https://wandb.ai/hyunsooha/sweep-practice/sweeps/0iz1czq1\" target=\"_blank\">https://wandb.ai/hyunsooha/sweep-practice/sweeps/0iz1czq1</a><br/>\n",
       "\n",
       "                "
      ],
      "text/plain": [
       "<IPython.core.display.HTML object>"
      ]
     },
     "metadata": {},
     "output_type": "display_data"
    },
    {
     "name": "stdout",
     "output_type": "stream",
     "text": [
      "Epoch 1/5\n",
      "   6/1875 [..............................] - ETA: 2:11 - loss: 2.3372 - accuracy: 0.1146WARNING:tensorflow:Callback method `on_train_batch_begin` is slow compared to the batch time (batch time: 0.0014s vs `on_train_batch_begin` time: 0.0485s). Check your callbacks.\n",
      "WARNING:tensorflow:Callback method `on_train_batch_end` is slow compared to the batch time (batch time: 0.0014s vs `on_train_batch_end` time: 0.0089s). Check your callbacks.\n",
      "1875/1875 [==============================] - 3s 2ms/step - loss: 0.6180 - accuracy: 0.7928 - val_loss: 0.4640 - val_accuracy: 0.8364\n",
      "Epoch 2/5\n",
      "1875/1875 [==============================] - 2s 1ms/step - loss: 0.4296 - accuracy: 0.8453 - val_loss: 0.4343 - val_accuracy: 0.8450\n",
      "Epoch 3/5\n",
      "1875/1875 [==============================] - 2s 1ms/step - loss: 0.3926 - accuracy: 0.8584 - val_loss: 0.4042 - val_accuracy: 0.8530\n",
      "Epoch 4/5\n",
      "1875/1875 [==============================] - 2s 1ms/step - loss: 0.3709 - accuracy: 0.8658 - val_loss: 0.3854 - val_accuracy: 0.8605\n",
      "Epoch 5/5\n",
      "1875/1875 [==============================] - 2s 1ms/step - loss: 0.3523 - accuracy: 0.8731 - val_loss: 0.3731 - val_accuracy: 0.8668\n"
     ]
    },
    {
     "data": {
      "text/html": [
       "<br/>Waiting for W&B process to finish, PID 24172... <strong style=\"color:green\">(success).</strong>"
      ],
      "text/plain": [
       "<IPython.core.display.HTML object>"
      ]
     },
     "metadata": {},
     "output_type": "display_data"
    },
    {
     "data": {
      "text/html": [
       "<style>\n",
       "    table.wandb td:nth-child(1) { padding: 0 10px; text-align: right }\n",
       "    .wandb-row { display: flex; flex-direction: row; flex-wrap: wrap; width: 100% }\n",
       "    .wandb-col { display: flex; flex-direction: column; flex-basis: 100%; flex: 1; padding: 10px; }\n",
       "    </style>\n",
       "<div class=\"wandb-row\"><div class=\"wandb-col\">\n",
       "<h3>Run history:</h3><br/><table class=\"wandb\"><tr><td>accuracy</td><td>▁▆▇▇█</td></tr><tr><td>epoch</td><td>▁▃▅▆█</td></tr><tr><td>loss</td><td>█▃▂▁▁</td></tr><tr><td>val_accuracy</td><td>▁▃▅▇█</td></tr><tr><td>val_loss</td><td>█▆▃▂▁</td></tr></table><br/></div><div class=\"wandb-col\">\n",
       "<h3>Run summary:</h3><br/><table class=\"wandb\"><tr><td>accuracy</td><td>0.87313</td></tr><tr><td>best_epoch</td><td>4</td></tr><tr><td>best_val_loss</td><td>0.37308</td></tr><tr><td>epoch</td><td>4</td></tr><tr><td>loss</td><td>0.35229</td></tr><tr><td>val_accuracy</td><td>0.8668</td></tr><tr><td>val_loss</td><td>0.37308</td></tr></table>\n",
       "</div></div>\n",
       "Synced 5 W&B file(s), 181 media file(s), 0 artifact file(s) and 11 other file(s)\n",
       "<br/>Synced <strong style=\"color:#cdcd00\">glorious-sweep-21</strong>: <a href=\"https://wandb.ai/hyunsooha/sweep-practice/runs/wg2zfv7z\" target=\"_blank\">https://wandb.ai/hyunsooha/sweep-practice/runs/wg2zfv7z</a><br/>\n",
       "Find logs at: <code>./wandb/run-20211002_175400-wg2zfv7z/logs</code><br/>\n"
      ],
      "text/plain": [
       "<IPython.core.display.HTML object>"
      ]
     },
     "metadata": {},
     "output_type": "display_data"
    },
    {
     "name": "stderr",
     "output_type": "stream",
     "text": [
      "\u001b[34m\u001b[1mwandb\u001b[0m: Agent Starting Run: sbnyspwa with config:\n",
      "\u001b[34m\u001b[1mwandb\u001b[0m: \tdropout_rate: 0.1\n",
      "\u001b[34m\u001b[1mwandb\u001b[0m: \tlayer1_activation: sigmoid\n",
      "\u001b[34m\u001b[1mwandb\u001b[0m: \tlayer1_size: 64\n",
      "\u001b[34m\u001b[1mwandb\u001b[0m: \tlearning_rate: 0.01\n",
      "\u001b[34m\u001b[1mwandb\u001b[0m: \toptimizer: rmsprop\n",
      "Failed to detect the name of this notebook, you can set it manually with the WANDB_NOTEBOOK_NAME environment variable to enable code saving.\n",
      "\u001b[34m\u001b[1mwandb\u001b[0m: \u001b[33mWARNING\u001b[0m Ignored wandb.init() arg project when running a sweep\n"
     ]
    },
    {
     "data": {
      "text/html": [
       "\n",
       "                    Syncing run <strong><a href=\"https://wandb.ai/hyunsooha/sweep-practice/runs/sbnyspwa\" target=\"_blank\">mild-sweep-22</a></strong> to <a href=\"https://wandb.ai/hyunsooha/sweep-practice\" target=\"_blank\">Weights & Biases</a> (<a href=\"https://docs.wandb.com/integrations/jupyter.html\" target=\"_blank\">docs</a>).<br/>\n",
       "Sweep page: <a href=\"https://wandb.ai/hyunsooha/sweep-practice/sweeps/0iz1czq1\" target=\"_blank\">https://wandb.ai/hyunsooha/sweep-practice/sweeps/0iz1czq1</a><br/>\n",
       "\n",
       "                "
      ],
      "text/plain": [
       "<IPython.core.display.HTML object>"
      ]
     },
     "metadata": {},
     "output_type": "display_data"
    },
    {
     "name": "stdout",
     "output_type": "stream",
     "text": [
      "Epoch 1/5\n",
      "   2/1875 [..............................] - ETA: 9:23 - loss: 2.2682 - accuracy: 0.0938WARNING:tensorflow:Callback method `on_train_batch_begin` is slow compared to the batch time (batch time: 0.0014s vs `on_train_batch_begin` time: 0.0486s). Check your callbacks.\n",
      "WARNING:tensorflow:Callback method `on_train_batch_end` is slow compared to the batch time (batch time: 0.0014s vs `on_train_batch_end` time: 0.0086s). Check your callbacks.\n",
      "1875/1875 [==============================] - 3s 2ms/step - loss: 0.6167 - accuracy: 0.7932 - val_loss: 0.4825 - val_accuracy: 0.8237\n",
      "Epoch 2/5\n",
      "1875/1875 [==============================] - 2s 1ms/step - loss: 0.4275 - accuracy: 0.8472 - val_loss: 0.4250 - val_accuracy: 0.8457\n",
      "Epoch 3/5\n",
      "1875/1875 [==============================] - 2s 1ms/step - loss: 0.3905 - accuracy: 0.8601 - val_loss: 0.4103 - val_accuracy: 0.8491\n",
      "Epoch 4/5\n",
      "1875/1875 [==============================] - 2s 1ms/step - loss: 0.3673 - accuracy: 0.8662 - val_loss: 0.3825 - val_accuracy: 0.8620\n",
      "Epoch 5/5\n",
      "1875/1875 [==============================] - 2s 1ms/step - loss: 0.3515 - accuracy: 0.8717 - val_loss: 0.3712 - val_accuracy: 0.8648\n"
     ]
    },
    {
     "data": {
      "text/html": [
       "<br/>Waiting for W&B process to finish, PID 24856... <strong style=\"color:green\">(success).</strong>"
      ],
      "text/plain": [
       "<IPython.core.display.HTML object>"
      ]
     },
     "metadata": {},
     "output_type": "display_data"
    },
    {
     "data": {
      "text/html": [
       "<style>\n",
       "    table.wandb td:nth-child(1) { padding: 0 10px; text-align: right }\n",
       "    .wandb-row { display: flex; flex-direction: row; flex-wrap: wrap; width: 100% }\n",
       "    .wandb-col { display: flex; flex-direction: column; flex-basis: 100%; flex: 1; padding: 10px; }\n",
       "    </style>\n",
       "<div class=\"wandb-row\"><div class=\"wandb-col\">\n",
       "<h3>Run history:</h3><br/><table class=\"wandb\"><tr><td>accuracy</td><td>▁▆▇██</td></tr><tr><td>epoch</td><td>▁▃▅▆█</td></tr><tr><td>loss</td><td>█▃▂▁▁</td></tr><tr><td>val_accuracy</td><td>▁▅▅██</td></tr><tr><td>val_loss</td><td>█▄▃▂▁</td></tr></table><br/></div><div class=\"wandb-col\">\n",
       "<h3>Run summary:</h3><br/><table class=\"wandb\"><tr><td>accuracy</td><td>0.87172</td></tr><tr><td>best_epoch</td><td>4</td></tr><tr><td>best_val_loss</td><td>0.37117</td></tr><tr><td>epoch</td><td>4</td></tr><tr><td>loss</td><td>0.35149</td></tr><tr><td>val_accuracy</td><td>0.8648</td></tr><tr><td>val_loss</td><td>0.37117</td></tr></table>\n",
       "</div></div>\n",
       "Synced 5 W&B file(s), 181 media file(s), 0 artifact file(s) and 11 other file(s)\n",
       "<br/>Synced <strong style=\"color:#cdcd00\">mild-sweep-22</strong>: <a href=\"https://wandb.ai/hyunsooha/sweep-practice/runs/sbnyspwa\" target=\"_blank\">https://wandb.ai/hyunsooha/sweep-practice/runs/sbnyspwa</a><br/>\n",
       "Find logs at: <code>./wandb/run-20211002_175423-sbnyspwa/logs</code><br/>\n"
      ],
      "text/plain": [
       "<IPython.core.display.HTML object>"
      ]
     },
     "metadata": {},
     "output_type": "display_data"
    },
    {
     "name": "stderr",
     "output_type": "stream",
     "text": [
      "\u001b[34m\u001b[1mwandb\u001b[0m: Agent Starting Run: 3s719b78 with config:\n",
      "\u001b[34m\u001b[1mwandb\u001b[0m: \tdropout_rate: 0.1\n",
      "\u001b[34m\u001b[1mwandb\u001b[0m: \tlayer1_activation: sigmoid\n",
      "\u001b[34m\u001b[1mwandb\u001b[0m: \tlayer1_size: 64\n",
      "\u001b[34m\u001b[1mwandb\u001b[0m: \tlearning_rate: 0.001\n",
      "\u001b[34m\u001b[1mwandb\u001b[0m: \toptimizer: adam\n",
      "Failed to detect the name of this notebook, you can set it manually with the WANDB_NOTEBOOK_NAME environment variable to enable code saving.\n",
      "\u001b[34m\u001b[1mwandb\u001b[0m: \u001b[33mWARNING\u001b[0m Ignored wandb.init() arg project when running a sweep\n"
     ]
    },
    {
     "data": {
      "text/html": [
       "\n",
       "                    Syncing run <strong><a href=\"https://wandb.ai/hyunsooha/sweep-practice/runs/3s719b78\" target=\"_blank\">deft-sweep-23</a></strong> to <a href=\"https://wandb.ai/hyunsooha/sweep-practice\" target=\"_blank\">Weights & Biases</a> (<a href=\"https://docs.wandb.com/integrations/jupyter.html\" target=\"_blank\">docs</a>).<br/>\n",
       "Sweep page: <a href=\"https://wandb.ai/hyunsooha/sweep-practice/sweeps/0iz1czq1\" target=\"_blank\">https://wandb.ai/hyunsooha/sweep-practice/sweeps/0iz1czq1</a><br/>\n",
       "\n",
       "                "
      ],
      "text/plain": [
       "<IPython.core.display.HTML object>"
      ]
     },
     "metadata": {},
     "output_type": "display_data"
    },
    {
     "name": "stdout",
     "output_type": "stream",
     "text": [
      "Epoch 1/5\n",
      "   2/1875 [..............................] - ETA: 9:21 - loss: 2.4397 - accuracy: 0.0781WARNING:tensorflow:Callback method `on_train_batch_begin` is slow compared to the batch time (batch time: 0.0014s vs `on_train_batch_begin` time: 0.0484s). Check your callbacks.\n",
      "WARNING:tensorflow:Callback method `on_train_batch_end` is slow compared to the batch time (batch time: 0.0014s vs `on_train_batch_end` time: 0.0081s). Check your callbacks.\n",
      "1875/1875 [==============================] - 3s 2ms/step - loss: 0.6149 - accuracy: 0.7943 - val_loss: 0.4659 - val_accuracy: 0.8323\n",
      "Epoch 2/5\n",
      "1875/1875 [==============================] - 2s 1ms/step - loss: 0.4282 - accuracy: 0.8465 - val_loss: 0.4324 - val_accuracy: 0.8403\n",
      "Epoch 3/5\n",
      "1875/1875 [==============================] - 2s 1ms/step - loss: 0.3905 - accuracy: 0.8589 - val_loss: 0.3946 - val_accuracy: 0.8580\n",
      "Epoch 4/5\n",
      "1875/1875 [==============================] - 2s 1ms/step - loss: 0.3690 - accuracy: 0.8665 - val_loss: 0.3910 - val_accuracy: 0.8579\n",
      "Epoch 5/5\n",
      "1875/1875 [==============================] - 2s 1ms/step - loss: 0.3511 - accuracy: 0.8738 - val_loss: 0.3761 - val_accuracy: 0.8652\n"
     ]
    },
    {
     "data": {
      "text/html": [
       "<br/>Waiting for W&B process to finish, PID 25540... <strong style=\"color:green\">(success).</strong>"
      ],
      "text/plain": [
       "<IPython.core.display.HTML object>"
      ]
     },
     "metadata": {},
     "output_type": "display_data"
    },
    {
     "data": {
      "text/html": [
       "<style>\n",
       "    table.wandb td:nth-child(1) { padding: 0 10px; text-align: right }\n",
       "    .wandb-row { display: flex; flex-direction: row; flex-wrap: wrap; width: 100% }\n",
       "    .wandb-col { display: flex; flex-direction: column; flex-basis: 100%; flex: 1; padding: 10px; }\n",
       "    </style>\n",
       "<div class=\"wandb-row\"><div class=\"wandb-col\">\n",
       "<h3>Run history:</h3><br/><table class=\"wandb\"><tr><td>accuracy</td><td>▁▆▇▇█</td></tr><tr><td>epoch</td><td>▁▃▅▆█</td></tr><tr><td>loss</td><td>█▃▂▁▁</td></tr><tr><td>val_accuracy</td><td>▁▃▆▆█</td></tr><tr><td>val_loss</td><td>█▅▂▂▁</td></tr></table><br/></div><div class=\"wandb-col\">\n",
       "<h3>Run summary:</h3><br/><table class=\"wandb\"><tr><td>accuracy</td><td>0.87385</td></tr><tr><td>best_epoch</td><td>4</td></tr><tr><td>best_val_loss</td><td>0.37611</td></tr><tr><td>epoch</td><td>4</td></tr><tr><td>loss</td><td>0.35114</td></tr><tr><td>val_accuracy</td><td>0.8652</td></tr><tr><td>val_loss</td><td>0.37611</td></tr></table>\n",
       "</div></div>\n",
       "Synced 5 W&B file(s), 181 media file(s), 0 artifact file(s) and 11 other file(s)\n",
       "<br/>Synced <strong style=\"color:#cdcd00\">deft-sweep-23</strong>: <a href=\"https://wandb.ai/hyunsooha/sweep-practice/runs/3s719b78\" target=\"_blank\">https://wandb.ai/hyunsooha/sweep-practice/runs/3s719b78</a><br/>\n",
       "Find logs at: <code>./wandb/run-20211002_175447-3s719b78/logs</code><br/>\n"
      ],
      "text/plain": [
       "<IPython.core.display.HTML object>"
      ]
     },
     "metadata": {},
     "output_type": "display_data"
    },
    {
     "name": "stderr",
     "output_type": "stream",
     "text": [
      "\u001b[34m\u001b[1mwandb\u001b[0m: Agent Starting Run: gnw7ona6 with config:\n",
      "\u001b[34m\u001b[1mwandb\u001b[0m: \tdropout_rate: 0.1\n",
      "\u001b[34m\u001b[1mwandb\u001b[0m: \tlayer1_activation: sigmoid\n",
      "\u001b[34m\u001b[1mwandb\u001b[0m: \tlayer1_size: 64\n",
      "\u001b[34m\u001b[1mwandb\u001b[0m: \tlearning_rate: 0.001\n",
      "\u001b[34m\u001b[1mwandb\u001b[0m: \toptimizer: rmsprop\n",
      "Failed to detect the name of this notebook, you can set it manually with the WANDB_NOTEBOOK_NAME environment variable to enable code saving.\n",
      "\u001b[34m\u001b[1mwandb\u001b[0m: \u001b[33mWARNING\u001b[0m Ignored wandb.init() arg project when running a sweep\n"
     ]
    },
    {
     "data": {
      "text/html": [
       "\n",
       "                    Syncing run <strong><a href=\"https://wandb.ai/hyunsooha/sweep-practice/runs/gnw7ona6\" target=\"_blank\">lunar-sweep-24</a></strong> to <a href=\"https://wandb.ai/hyunsooha/sweep-practice\" target=\"_blank\">Weights & Biases</a> (<a href=\"https://docs.wandb.com/integrations/jupyter.html\" target=\"_blank\">docs</a>).<br/>\n",
       "Sweep page: <a href=\"https://wandb.ai/hyunsooha/sweep-practice/sweeps/0iz1czq1\" target=\"_blank\">https://wandb.ai/hyunsooha/sweep-practice/sweeps/0iz1czq1</a><br/>\n",
       "\n",
       "                "
      ],
      "text/plain": [
       "<IPython.core.display.HTML object>"
      ]
     },
     "metadata": {},
     "output_type": "display_data"
    },
    {
     "name": "stdout",
     "output_type": "stream",
     "text": [
      "Epoch 1/5\n",
      "   2/1875 [..............................] - ETA: 9:16 - loss: 2.4779 - accuracy: 0.1094WARNING:tensorflow:Callback method `on_train_batch_begin` is slow compared to the batch time (batch time: 0.0015s vs `on_train_batch_begin` time: 0.0480s). Check your callbacks.\n",
      "WARNING:tensorflow:Callback method `on_train_batch_end` is slow compared to the batch time (batch time: 0.0015s vs `on_train_batch_end` time: 0.0081s). Check your callbacks.\n",
      "1875/1875 [==============================] - 3s 2ms/step - loss: 0.6208 - accuracy: 0.7923 - val_loss: 0.4698 - val_accuracy: 0.8348\n",
      "Epoch 2/5\n",
      "1875/1875 [==============================] - 2s 1ms/step - loss: 0.4301 - accuracy: 0.8467 - val_loss: 0.4263 - val_accuracy: 0.8458\n",
      "Epoch 3/5\n",
      "1875/1875 [==============================] - 2s 1ms/step - loss: 0.3944 - accuracy: 0.8581 - val_loss: 0.4000 - val_accuracy: 0.8590\n",
      "Epoch 4/5\n",
      "1875/1875 [==============================] - 2s 1ms/step - loss: 0.3705 - accuracy: 0.8676 - val_loss: 0.3875 - val_accuracy: 0.8632\n",
      "Epoch 5/5\n",
      "1875/1875 [==============================] - 2s 1ms/step - loss: 0.3528 - accuracy: 0.8739 - val_loss: 0.3787 - val_accuracy: 0.8634\n"
     ]
    },
    {
     "data": {
      "text/html": [
       "<br/>Waiting for W&B process to finish, PID 26224... <strong style=\"color:green\">(success).</strong>"
      ],
      "text/plain": [
       "<IPython.core.display.HTML object>"
      ]
     },
     "metadata": {},
     "output_type": "display_data"
    },
    {
     "data": {
      "text/html": [
       "<style>\n",
       "    table.wandb td:nth-child(1) { padding: 0 10px; text-align: right }\n",
       "    .wandb-row { display: flex; flex-direction: row; flex-wrap: wrap; width: 100% }\n",
       "    .wandb-col { display: flex; flex-direction: column; flex-basis: 100%; flex: 1; padding: 10px; }\n",
       "    </style>\n",
       "<div class=\"wandb-row\"><div class=\"wandb-col\">\n",
       "<h3>Run history:</h3><br/><table class=\"wandb\"><tr><td>accuracy</td><td>▁▆▇▇█</td></tr><tr><td>epoch</td><td>▁▃▅▆█</td></tr><tr><td>loss</td><td>█▃▂▁▁</td></tr><tr><td>val_accuracy</td><td>▁▄▇██</td></tr><tr><td>val_loss</td><td>█▅▃▂▁</td></tr></table><br/></div><div class=\"wandb-col\">\n",
       "<h3>Run summary:</h3><br/><table class=\"wandb\"><tr><td>accuracy</td><td>0.8739</td></tr><tr><td>best_epoch</td><td>4</td></tr><tr><td>best_val_loss</td><td>0.3787</td></tr><tr><td>epoch</td><td>4</td></tr><tr><td>loss</td><td>0.35281</td></tr><tr><td>val_accuracy</td><td>0.8634</td></tr><tr><td>val_loss</td><td>0.3787</td></tr></table>\n",
       "</div></div>\n",
       "Synced 5 W&B file(s), 181 media file(s), 0 artifact file(s) and 11 other file(s)\n",
       "<br/>Synced <strong style=\"color:#cdcd00\">lunar-sweep-24</strong>: <a href=\"https://wandb.ai/hyunsooha/sweep-practice/runs/gnw7ona6\" target=\"_blank\">https://wandb.ai/hyunsooha/sweep-practice/runs/gnw7ona6</a><br/>\n",
       "Find logs at: <code>./wandb/run-20211002_175511-gnw7ona6/logs</code><br/>\n"
      ],
      "text/plain": [
       "<IPython.core.display.HTML object>"
      ]
     },
     "metadata": {},
     "output_type": "display_data"
    },
    {
     "name": "stderr",
     "output_type": "stream",
     "text": [
      "\u001b[34m\u001b[1mwandb\u001b[0m: Agent Starting Run: o4z1uinm with config:\n",
      "\u001b[34m\u001b[1mwandb\u001b[0m: \tdropout_rate: 0.1\n",
      "\u001b[34m\u001b[1mwandb\u001b[0m: \tlayer1_activation: sigmoid\n",
      "\u001b[34m\u001b[1mwandb\u001b[0m: \tlayer1_size: 96\n",
      "\u001b[34m\u001b[1mwandb\u001b[0m: \tlearning_rate: 0.1\n",
      "\u001b[34m\u001b[1mwandb\u001b[0m: \toptimizer: adam\n",
      "Failed to detect the name of this notebook, you can set it manually with the WANDB_NOTEBOOK_NAME environment variable to enable code saving.\n",
      "\u001b[34m\u001b[1mwandb\u001b[0m: \u001b[33mWARNING\u001b[0m Ignored wandb.init() arg project when running a sweep\n"
     ]
    },
    {
     "data": {
      "text/html": [
       "\n",
       "                    Syncing run <strong><a href=\"https://wandb.ai/hyunsooha/sweep-practice/runs/o4z1uinm\" target=\"_blank\">balmy-sweep-25</a></strong> to <a href=\"https://wandb.ai/hyunsooha/sweep-practice\" target=\"_blank\">Weights & Biases</a> (<a href=\"https://docs.wandb.com/integrations/jupyter.html\" target=\"_blank\">docs</a>).<br/>\n",
       "Sweep page: <a href=\"https://wandb.ai/hyunsooha/sweep-practice/sweeps/0iz1czq1\" target=\"_blank\">https://wandb.ai/hyunsooha/sweep-practice/sweeps/0iz1czq1</a><br/>\n",
       "\n",
       "                "
      ],
      "text/plain": [
       "<IPython.core.display.HTML object>"
      ]
     },
     "metadata": {},
     "output_type": "display_data"
    },
    {
     "name": "stdout",
     "output_type": "stream",
     "text": [
      "Epoch 1/5\n",
      "   2/1875 [..............................] - ETA: 9:24 - loss: 2.4477 - accuracy: 0.0781WARNING:tensorflow:Callback method `on_train_batch_begin` is slow compared to the batch time (batch time: 0.0014s vs `on_train_batch_begin` time: 0.0487s). Check your callbacks.\n",
      "WARNING:tensorflow:Callback method `on_train_batch_end` is slow compared to the batch time (batch time: 0.0014s vs `on_train_batch_end` time: 0.0080s). Check your callbacks.\n",
      "1875/1875 [==============================] - 3s 1ms/step - loss: 0.5822 - accuracy: 0.8026 - val_loss: 0.4531 - val_accuracy: 0.8393\n",
      "Epoch 2/5\n",
      "1875/1875 [==============================] - 2s 1ms/step - loss: 0.4149 - accuracy: 0.8498 - val_loss: 0.4191 - val_accuracy: 0.8478\n",
      "Epoch 3/5\n",
      "1875/1875 [==============================] - 2s 1ms/step - loss: 0.3782 - accuracy: 0.8636 - val_loss: 0.3927 - val_accuracy: 0.8603\n",
      "Epoch 4/5\n",
      "1875/1875 [==============================] - 2s 1ms/step - loss: 0.3559 - accuracy: 0.8706 - val_loss: 0.3809 - val_accuracy: 0.8634\n",
      "Epoch 5/5\n",
      "1875/1875 [==============================] - 2s 1ms/step - loss: 0.3374 - accuracy: 0.8760 - val_loss: 0.3760 - val_accuracy: 0.8612\n"
     ]
    },
    {
     "data": {
      "text/html": [
       "<br/>Waiting for W&B process to finish, PID 26908... <strong style=\"color:green\">(success).</strong>"
      ],
      "text/plain": [
       "<IPython.core.display.HTML object>"
      ]
     },
     "metadata": {},
     "output_type": "display_data"
    },
    {
     "data": {
      "text/html": [
       "<style>\n",
       "    table.wandb td:nth-child(1) { padding: 0 10px; text-align: right }\n",
       "    .wandb-row { display: flex; flex-direction: row; flex-wrap: wrap; width: 100% }\n",
       "    .wandb-col { display: flex; flex-direction: column; flex-basis: 100%; flex: 1; padding: 10px; }\n",
       "    </style>\n",
       "<div class=\"wandb-row\"><div class=\"wandb-col\">\n",
       "<h3>Run history:</h3><br/><table class=\"wandb\"><tr><td>accuracy</td><td>▁▆▇▇█</td></tr><tr><td>epoch</td><td>▁▃▅▆█</td></tr><tr><td>loss</td><td>█▃▂▂▁</td></tr><tr><td>val_accuracy</td><td>▁▃▇█▇</td></tr><tr><td>val_loss</td><td>█▅▃▁▁</td></tr></table><br/></div><div class=\"wandb-col\">\n",
       "<h3>Run summary:</h3><br/><table class=\"wandb\"><tr><td>accuracy</td><td>0.87598</td></tr><tr><td>best_epoch</td><td>4</td></tr><tr><td>best_val_loss</td><td>0.37596</td></tr><tr><td>epoch</td><td>4</td></tr><tr><td>loss</td><td>0.3374</td></tr><tr><td>val_accuracy</td><td>0.8612</td></tr><tr><td>val_loss</td><td>0.37596</td></tr></table>\n",
       "</div></div>\n",
       "Synced 5 W&B file(s), 181 media file(s), 0 artifact file(s) and 11 other file(s)\n",
       "<br/>Synced <strong style=\"color:#cdcd00\">balmy-sweep-25</strong>: <a href=\"https://wandb.ai/hyunsooha/sweep-practice/runs/o4z1uinm\" target=\"_blank\">https://wandb.ai/hyunsooha/sweep-practice/runs/o4z1uinm</a><br/>\n",
       "Find logs at: <code>./wandb/run-20211002_175533-o4z1uinm/logs</code><br/>\n"
      ],
      "text/plain": [
       "<IPython.core.display.HTML object>"
      ]
     },
     "metadata": {},
     "output_type": "display_data"
    },
    {
     "name": "stderr",
     "output_type": "stream",
     "text": [
      "\u001b[34m\u001b[1mwandb\u001b[0m: Agent Starting Run: zsrfg8c7 with config:\n",
      "\u001b[34m\u001b[1mwandb\u001b[0m: \tdropout_rate: 0.1\n",
      "\u001b[34m\u001b[1mwandb\u001b[0m: \tlayer1_activation: sigmoid\n",
      "\u001b[34m\u001b[1mwandb\u001b[0m: \tlayer1_size: 96\n",
      "\u001b[34m\u001b[1mwandb\u001b[0m: \tlearning_rate: 0.1\n",
      "\u001b[34m\u001b[1mwandb\u001b[0m: \toptimizer: rmsprop\n",
      "Failed to detect the name of this notebook, you can set it manually with the WANDB_NOTEBOOK_NAME environment variable to enable code saving.\n",
      "\u001b[34m\u001b[1mwandb\u001b[0m: \u001b[33mWARNING\u001b[0m Ignored wandb.init() arg project when running a sweep\n"
     ]
    },
    {
     "data": {
      "text/html": [
       "\n",
       "                    Syncing run <strong><a href=\"https://wandb.ai/hyunsooha/sweep-practice/runs/zsrfg8c7\" target=\"_blank\">sweepy-sweep-26</a></strong> to <a href=\"https://wandb.ai/hyunsooha/sweep-practice\" target=\"_blank\">Weights & Biases</a> (<a href=\"https://docs.wandb.com/integrations/jupyter.html\" target=\"_blank\">docs</a>).<br/>\n",
       "Sweep page: <a href=\"https://wandb.ai/hyunsooha/sweep-practice/sweeps/0iz1czq1\" target=\"_blank\">https://wandb.ai/hyunsooha/sweep-practice/sweeps/0iz1czq1</a><br/>\n",
       "\n",
       "                "
      ],
      "text/plain": [
       "<IPython.core.display.HTML object>"
      ]
     },
     "metadata": {},
     "output_type": "display_data"
    },
    {
     "name": "stdout",
     "output_type": "stream",
     "text": [
      "Epoch 1/5\n",
      "   2/1875 [..............................] - ETA: 9:27 - loss: 2.5377 - accuracy: 0.1250WARNING:tensorflow:Callback method `on_train_batch_begin` is slow compared to the batch time (batch time: 0.0012s vs `on_train_batch_begin` time: 0.0489s). Check your callbacks.\n",
      "WARNING:tensorflow:Callback method `on_train_batch_end` is slow compared to the batch time (batch time: 0.0012s vs `on_train_batch_end` time: 0.0082s). Check your callbacks.\n",
      "1875/1875 [==============================] - 3s 2ms/step - loss: 0.5840 - accuracy: 0.8021 - val_loss: 0.4564 - val_accuracy: 0.8357\n",
      "Epoch 2/5\n",
      "1875/1875 [==============================] - 2s 1ms/step - loss: 0.4160 - accuracy: 0.8502 - val_loss: 0.4195 - val_accuracy: 0.8467\n",
      "Epoch 3/5\n",
      "1875/1875 [==============================] - 2s 1ms/step - loss: 0.3786 - accuracy: 0.8623 - val_loss: 0.4024 - val_accuracy: 0.8537\n",
      "Epoch 4/5\n",
      "1875/1875 [==============================] - 2s 1ms/step - loss: 0.3550 - accuracy: 0.8715 - val_loss: 0.3842 - val_accuracy: 0.8607\n",
      "Epoch 5/5\n",
      "1875/1875 [==============================] - 2s 1ms/step - loss: 0.3375 - accuracy: 0.8782 - val_loss: 0.3682 - val_accuracy: 0.8666\n"
     ]
    },
    {
     "data": {
      "text/html": [
       "<br/>Waiting for W&B process to finish, PID 27593... <strong style=\"color:green\">(success).</strong>"
      ],
      "text/plain": [
       "<IPython.core.display.HTML object>"
      ]
     },
     "metadata": {},
     "output_type": "display_data"
    },
    {
     "data": {
      "text/html": [
       "<style>\n",
       "    table.wandb td:nth-child(1) { padding: 0 10px; text-align: right }\n",
       "    .wandb-row { display: flex; flex-direction: row; flex-wrap: wrap; width: 100% }\n",
       "    .wandb-col { display: flex; flex-direction: column; flex-basis: 100%; flex: 1; padding: 10px; }\n",
       "    </style>\n",
       "<div class=\"wandb-row\"><div class=\"wandb-col\">\n",
       "<h3>Run history:</h3><br/><table class=\"wandb\"><tr><td>accuracy</td><td>▁▅▇▇█</td></tr><tr><td>epoch</td><td>▁▃▅▆█</td></tr><tr><td>loss</td><td>█▃▂▁▁</td></tr><tr><td>val_accuracy</td><td>▁▃▅▇█</td></tr><tr><td>val_loss</td><td>█▅▄▂▁</td></tr></table><br/></div><div class=\"wandb-col\">\n",
       "<h3>Run summary:</h3><br/><table class=\"wandb\"><tr><td>accuracy</td><td>0.87817</td></tr><tr><td>best_epoch</td><td>4</td></tr><tr><td>best_val_loss</td><td>0.36815</td></tr><tr><td>epoch</td><td>4</td></tr><tr><td>loss</td><td>0.33752</td></tr><tr><td>val_accuracy</td><td>0.8666</td></tr><tr><td>val_loss</td><td>0.36815</td></tr></table>\n",
       "</div></div>\n",
       "Synced 5 W&B file(s), 181 media file(s), 0 artifact file(s) and 11 other file(s)\n",
       "<br/>Synced <strong style=\"color:#cdcd00\">sweepy-sweep-26</strong>: <a href=\"https://wandb.ai/hyunsooha/sweep-practice/runs/zsrfg8c7\" target=\"_blank\">https://wandb.ai/hyunsooha/sweep-practice/runs/zsrfg8c7</a><br/>\n",
       "Find logs at: <code>./wandb/run-20211002_175557-zsrfg8c7/logs</code><br/>\n"
      ],
      "text/plain": [
       "<IPython.core.display.HTML object>"
      ]
     },
     "metadata": {},
     "output_type": "display_data"
    },
    {
     "name": "stderr",
     "output_type": "stream",
     "text": [
      "\u001b[34m\u001b[1mwandb\u001b[0m: Agent Starting Run: bo510b8g with config:\n",
      "\u001b[34m\u001b[1mwandb\u001b[0m: \tdropout_rate: 0.1\n",
      "\u001b[34m\u001b[1mwandb\u001b[0m: \tlayer1_activation: sigmoid\n",
      "\u001b[34m\u001b[1mwandb\u001b[0m: \tlayer1_size: 96\n",
      "\u001b[34m\u001b[1mwandb\u001b[0m: \tlearning_rate: 0.01\n",
      "\u001b[34m\u001b[1mwandb\u001b[0m: \toptimizer: adam\n",
      "Failed to detect the name of this notebook, you can set it manually with the WANDB_NOTEBOOK_NAME environment variable to enable code saving.\n",
      "\u001b[34m\u001b[1mwandb\u001b[0m: \u001b[33mWARNING\u001b[0m Ignored wandb.init() arg project when running a sweep\n"
     ]
    },
    {
     "data": {
      "text/html": [
       "\n",
       "                    Syncing run <strong><a href=\"https://wandb.ai/hyunsooha/sweep-practice/runs/bo510b8g\" target=\"_blank\">amber-sweep-27</a></strong> to <a href=\"https://wandb.ai/hyunsooha/sweep-practice\" target=\"_blank\">Weights & Biases</a> (<a href=\"https://docs.wandb.com/integrations/jupyter.html\" target=\"_blank\">docs</a>).<br/>\n",
       "Sweep page: <a href=\"https://wandb.ai/hyunsooha/sweep-practice/sweeps/0iz1czq1\" target=\"_blank\">https://wandb.ai/hyunsooha/sweep-practice/sweeps/0iz1czq1</a><br/>\n",
       "\n",
       "                "
      ],
      "text/plain": [
       "<IPython.core.display.HTML object>"
      ]
     },
     "metadata": {},
     "output_type": "display_data"
    },
    {
     "name": "stdout",
     "output_type": "stream",
     "text": [
      "Epoch 1/5\n",
      "   6/1875 [..............................] - ETA: 2:11 - loss: 2.2917 - accuracy: 0.1615WARNING:tensorflow:Callback method `on_train_batch_begin` is slow compared to the batch time (batch time: 0.0012s vs `on_train_batch_begin` time: 0.0486s). Check your callbacks.\n",
      "WARNING:tensorflow:Callback method `on_train_batch_end` is slow compared to the batch time (batch time: 0.0012s vs `on_train_batch_end` time: 0.0090s). Check your callbacks.\n",
      "1875/1875 [==============================] - 3s 1ms/step - loss: 0.5818 - accuracy: 0.8005 - val_loss: 0.4601 - val_accuracy: 0.8339\n",
      "Epoch 2/5\n",
      "1875/1875 [==============================] - 2s 1ms/step - loss: 0.4145 - accuracy: 0.8515 - val_loss: 0.4112 - val_accuracy: 0.8511\n",
      "Epoch 3/5\n",
      "1875/1875 [==============================] - 2s 1ms/step - loss: 0.3783 - accuracy: 0.8641 - val_loss: 0.3966 - val_accuracy: 0.8543\n",
      "Epoch 4/5\n",
      "1875/1875 [==============================] - 2s 1ms/step - loss: 0.3556 - accuracy: 0.8714 - val_loss: 0.3834 - val_accuracy: 0.8623\n",
      "Epoch 5/5\n",
      "1875/1875 [==============================] - 2s 1ms/step - loss: 0.3384 - accuracy: 0.8769 - val_loss: 0.3697 - val_accuracy: 0.8630\n"
     ]
    },
    {
     "data": {
      "text/html": [
       "<br/>Waiting for W&B process to finish, PID 28279... <strong style=\"color:green\">(success).</strong>"
      ],
      "text/plain": [
       "<IPython.core.display.HTML object>"
      ]
     },
     "metadata": {},
     "output_type": "display_data"
    },
    {
     "data": {
      "text/html": [
       "<style>\n",
       "    table.wandb td:nth-child(1) { padding: 0 10px; text-align: right }\n",
       "    .wandb-row { display: flex; flex-direction: row; flex-wrap: wrap; width: 100% }\n",
       "    .wandb-col { display: flex; flex-direction: column; flex-basis: 100%; flex: 1; padding: 10px; }\n",
       "    </style>\n",
       "<div class=\"wandb-row\"><div class=\"wandb-col\">\n",
       "<h3>Run history:</h3><br/><table class=\"wandb\"><tr><td>accuracy</td><td>▁▆▇▇█</td></tr><tr><td>epoch</td><td>▁▃▅▆█</td></tr><tr><td>loss</td><td>█▃▂▁▁</td></tr><tr><td>val_accuracy</td><td>▁▅▆██</td></tr><tr><td>val_loss</td><td>█▄▃▂▁</td></tr></table><br/></div><div class=\"wandb-col\">\n",
       "<h3>Run summary:</h3><br/><table class=\"wandb\"><tr><td>accuracy</td><td>0.87693</td></tr><tr><td>best_epoch</td><td>4</td></tr><tr><td>best_val_loss</td><td>0.36966</td></tr><tr><td>epoch</td><td>4</td></tr><tr><td>loss</td><td>0.33837</td></tr><tr><td>val_accuracy</td><td>0.863</td></tr><tr><td>val_loss</td><td>0.36966</td></tr></table>\n",
       "</div></div>\n",
       "Synced 5 W&B file(s), 181 media file(s), 0 artifact file(s) and 11 other file(s)\n",
       "<br/>Synced <strong style=\"color:#cdcd00\">amber-sweep-27</strong>: <a href=\"https://wandb.ai/hyunsooha/sweep-practice/runs/bo510b8g\" target=\"_blank\">https://wandb.ai/hyunsooha/sweep-practice/runs/bo510b8g</a><br/>\n",
       "Find logs at: <code>./wandb/run-20211002_175621-bo510b8g/logs</code><br/>\n"
      ],
      "text/plain": [
       "<IPython.core.display.HTML object>"
      ]
     },
     "metadata": {},
     "output_type": "display_data"
    },
    {
     "name": "stderr",
     "output_type": "stream",
     "text": [
      "\u001b[34m\u001b[1mwandb\u001b[0m: Agent Starting Run: xe9m2k6i with config:\n",
      "\u001b[34m\u001b[1mwandb\u001b[0m: \tdropout_rate: 0.1\n",
      "\u001b[34m\u001b[1mwandb\u001b[0m: \tlayer1_activation: sigmoid\n",
      "\u001b[34m\u001b[1mwandb\u001b[0m: \tlayer1_size: 96\n",
      "\u001b[34m\u001b[1mwandb\u001b[0m: \tlearning_rate: 0.01\n",
      "\u001b[34m\u001b[1mwandb\u001b[0m: \toptimizer: rmsprop\n",
      "Failed to detect the name of this notebook, you can set it manually with the WANDB_NOTEBOOK_NAME environment variable to enable code saving.\n",
      "\u001b[34m\u001b[1mwandb\u001b[0m: \u001b[33mWARNING\u001b[0m Ignored wandb.init() arg project when running a sweep\n"
     ]
    },
    {
     "data": {
      "text/html": [
       "\n",
       "                    Syncing run <strong><a href=\"https://wandb.ai/hyunsooha/sweep-practice/runs/xe9m2k6i\" target=\"_blank\">azure-sweep-28</a></strong> to <a href=\"https://wandb.ai/hyunsooha/sweep-practice\" target=\"_blank\">Weights & Biases</a> (<a href=\"https://docs.wandb.com/integrations/jupyter.html\" target=\"_blank\">docs</a>).<br/>\n",
       "Sweep page: <a href=\"https://wandb.ai/hyunsooha/sweep-practice/sweeps/0iz1czq1\" target=\"_blank\">https://wandb.ai/hyunsooha/sweep-practice/sweeps/0iz1czq1</a><br/>\n",
       "\n",
       "                "
      ],
      "text/plain": [
       "<IPython.core.display.HTML object>"
      ]
     },
     "metadata": {},
     "output_type": "display_data"
    },
    {
     "name": "stdout",
     "output_type": "stream",
     "text": [
      "Epoch 1/5\n",
      "   5/1875 [..............................] - ETA: 2:42 - loss: 2.3900 - accuracy: 0.1562WARNING:tensorflow:Callback method `on_train_batch_begin` is slow compared to the batch time (batch time: 0.0014s vs `on_train_batch_begin` time: 0.0481s). Check your callbacks.\n",
      "WARNING:tensorflow:Callback method `on_train_batch_end` is slow compared to the batch time (batch time: 0.0014s vs `on_train_batch_end` time: 0.0091s). Check your callbacks.\n",
      "1875/1875 [==============================] - 3s 2ms/step - loss: 0.5806 - accuracy: 0.8011 - val_loss: 0.4541 - val_accuracy: 0.8380\n",
      "Epoch 2/5\n",
      "1875/1875 [==============================] - 2s 1ms/step - loss: 0.4137 - accuracy: 0.8516 - val_loss: 0.4099 - val_accuracy: 0.8506\n",
      "Epoch 3/5\n",
      "1875/1875 [==============================] - 2s 1ms/step - loss: 0.3756 - accuracy: 0.8638 - val_loss: 0.3891 - val_accuracy: 0.8624\n",
      "Epoch 4/5\n",
      "1875/1875 [==============================] - 2s 1ms/step - loss: 0.3529 - accuracy: 0.8706 - val_loss: 0.3774 - val_accuracy: 0.8626\n",
      "Epoch 5/5\n",
      "1875/1875 [==============================] - 2s 1ms/step - loss: 0.3342 - accuracy: 0.8782 - val_loss: 0.3605 - val_accuracy: 0.8686\n"
     ]
    },
    {
     "data": {
      "text/html": [
       "<br/>Waiting for W&B process to finish, PID 28967... <strong style=\"color:green\">(success).</strong>"
      ],
      "text/plain": [
       "<IPython.core.display.HTML object>"
      ]
     },
     "metadata": {},
     "output_type": "display_data"
    },
    {
     "data": {
      "text/html": [
       "<style>\n",
       "    table.wandb td:nth-child(1) { padding: 0 10px; text-align: right }\n",
       "    .wandb-row { display: flex; flex-direction: row; flex-wrap: wrap; width: 100% }\n",
       "    .wandb-col { display: flex; flex-direction: column; flex-basis: 100%; flex: 1; padding: 10px; }\n",
       "    </style>\n",
       "<div class=\"wandb-row\"><div class=\"wandb-col\">\n",
       "<h3>Run history:</h3><br/><table class=\"wandb\"><tr><td>accuracy</td><td>▁▆▇▇█</td></tr><tr><td>epoch</td><td>▁▃▅▆█</td></tr><tr><td>loss</td><td>█▃▂▂▁</td></tr><tr><td>val_accuracy</td><td>▁▄▇▇█</td></tr><tr><td>val_loss</td><td>█▅▃▂▁</td></tr></table><br/></div><div class=\"wandb-col\">\n",
       "<h3>Run summary:</h3><br/><table class=\"wandb\"><tr><td>accuracy</td><td>0.87817</td></tr><tr><td>best_epoch</td><td>4</td></tr><tr><td>best_val_loss</td><td>0.3605</td></tr><tr><td>epoch</td><td>4</td></tr><tr><td>loss</td><td>0.33416</td></tr><tr><td>val_accuracy</td><td>0.8686</td></tr><tr><td>val_loss</td><td>0.3605</td></tr></table>\n",
       "</div></div>\n",
       "Synced 5 W&B file(s), 181 media file(s), 0 artifact file(s) and 11 other file(s)\n",
       "<br/>Synced <strong style=\"color:#cdcd00\">azure-sweep-28</strong>: <a href=\"https://wandb.ai/hyunsooha/sweep-practice/runs/xe9m2k6i\" target=\"_blank\">https://wandb.ai/hyunsooha/sweep-practice/runs/xe9m2k6i</a><br/>\n",
       "Find logs at: <code>./wandb/run-20211002_175644-xe9m2k6i/logs</code><br/>\n"
      ],
      "text/plain": [
       "<IPython.core.display.HTML object>"
      ]
     },
     "metadata": {},
     "output_type": "display_data"
    },
    {
     "name": "stderr",
     "output_type": "stream",
     "text": [
      "\u001b[34m\u001b[1mwandb\u001b[0m: Sweep Agent: Waiting for job.\n",
      "\u001b[34m\u001b[1mwandb\u001b[0m: Sweep Agent: Exiting.\n"
     ]
    }
   ],
   "source": [
    "wandb.agent(sweep_id, function=train)"
   ]
  },
  {
   "cell_type": "code",
   "execution_count": null,
   "id": "53e84f7a",
   "metadata": {},
   "outputs": [],
   "source": [
    "!wandb agent hyunsooha/sweep-practice/ivky6qdf"
   ]
  },
  {
   "cell_type": "markdown",
   "id": "aa6c1f6b",
   "metadata": {},
   "source": [
    "# 정확도 비교"
   ]
  },
  {
   "cell_type": "markdown",
   "id": "0c5a06f4",
   "metadata": {},
   "source": [
    "![1](1.png)"
   ]
  },
  {
   "cell_type": "markdown",
   "id": "3a1a9a21",
   "metadata": {},
   "source": [
    "# Hyperparameter 선택 참고"
   ]
  },
  {
   "cell_type": "markdown",
   "id": "84dd3f72",
   "metadata": {},
   "source": [
    "![2](2.png)"
   ]
  },
  {
   "cell_type": "code",
   "execution_count": null,
   "id": "eae11a74",
   "metadata": {},
   "outputs": [],
   "source": []
  }
 ],
 "metadata": {
  "kernelspec": {
   "display_name": "Python 3",
   "language": "python",
   "name": "python3"
  },
  "language_info": {
   "codemirror_mode": {
    "name": "ipython",
    "version": 3
   },
   "file_extension": ".py",
   "mimetype": "text/x-python",
   "name": "python",
   "nbconvert_exporter": "python",
   "pygments_lexer": "ipython3",
   "version": "3.8.10"
  }
 },
 "nbformat": 4,
 "nbformat_minor": 5
}
